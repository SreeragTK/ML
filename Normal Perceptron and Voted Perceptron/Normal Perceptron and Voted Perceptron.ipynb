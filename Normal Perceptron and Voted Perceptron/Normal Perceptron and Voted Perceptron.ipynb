{
 "cells": [
  {
   "cell_type": "code",
   "execution_count": 4,
   "metadata": {},
   "outputs": [
    {
     "name": "stdout",
     "output_type": "stream",
     "text": [
      "     Gender      1      2      3       4       5       6       7   8\n",
      "0         1  0.455  0.365  0.095  0.5140  0.2245  0.1010  0.1500  15\n",
      "1         1  0.350  0.265  0.090  0.2255  0.0995  0.0485  0.0700   7\n",
      "2         1  0.530  0.420  0.135  0.6770  0.2565  0.1415  0.2100   9\n",
      "3         1  0.440  0.365  0.125  0.5160  0.2155  0.1140  0.1550  10\n",
      "4        -1  0.330  0.255  0.080  0.2050  0.0895  0.0395  0.0550   7\n",
      "...     ...    ...    ...    ...     ...     ...     ...     ...  ..\n",
      "4172      1  0.565  0.450  0.165  0.8870  0.3700  0.2390  0.2490  11\n",
      "4173      1  0.590  0.440  0.135  0.9660  0.4390  0.2145  0.2605  10\n",
      "4174      1  0.600  0.475  0.205  1.1760  0.5255  0.2875  0.3080   9\n",
      "4175      1  0.625  0.485  0.150  1.0945  0.5310  0.2610  0.2960  10\n",
      "4176      1  0.710  0.555  0.195  1.9485  0.9455  0.3765  0.4950  12\n",
      "\n",
      "[4177 rows x 9 columns]\n",
      "          1      2      3       4       5       6       7   8\n",
      "0     0.455  0.365  0.095  0.5140  0.2245  0.1010  0.1500  15\n",
      "1     0.350  0.265  0.090  0.2255  0.0995  0.0485  0.0700   7\n",
      "2     0.530  0.420  0.135  0.6770  0.2565  0.1415  0.2100   9\n",
      "3     0.440  0.365  0.125  0.5160  0.2155  0.1140  0.1550  10\n",
      "4     0.330  0.255  0.080  0.2050  0.0895  0.0395  0.0550   7\n",
      "...     ...    ...    ...     ...     ...     ...     ...  ..\n",
      "4172  0.565  0.450  0.165  0.8870  0.3700  0.2390  0.2490  11\n",
      "4173  0.590  0.440  0.135  0.9660  0.4390  0.2145  0.2605  10\n",
      "4174  0.600  0.475  0.205  1.1760  0.5255  0.2875  0.3080   9\n",
      "4175  0.625  0.485  0.150  1.0945  0.5310  0.2610  0.2960  10\n",
      "4176  0.710  0.555  0.195  1.9485  0.9455  0.3765  0.4950  12\n",
      "\n",
      "[4177 rows x 8 columns]\n",
      "RangeIndex(start=0, stop=4177, step=1)\n",
      "      1     2      3      4       5       6     7  8\n",
      "2  0.53  0.42  0.135  0.677  0.2565  0.1415  0.21  9\n",
      "2    1.0\n",
      "dtype: float64\n",
      "0.09\n"
     ]
    },
    {
     "data": {
      "image/png": "[encoded data removed]",
      "text/plain": [
       "<Figure size 432x288 with 1 Axes>"
      ]
     },
     "metadata": {
      "needs_background": "light"
     },
     "output_type": "display_data"
    },
    {
     "data": {
      "image/png": "[encoded data removed]",
      "text/plain": [
       "<Figure size 432x288 with 1 Axes>"
      ]
     },
     "metadata": {
      "needs_background": "light"
     },
     "output_type": "display_data"
    }
   ],
   "source": [
    "import numpy as np\n",
    "import pandas as pd\n",
    "import matplotlib.pyplot as plt\n",
    "def perceptron_normal(y,x,w,b):\n",
    "    for j in range(4177):\n",
    "        a=np.sign(np.dot(x.loc[[j]],w)+b)\n",
    "        if y.loc[j,'Gender']*a<0:\n",
    "            for i in range(len(w)):\n",
    "                w[i]+=(y.loc[j,'Gender'])*(x.loc[j,i+1])\n",
    "            b+=y.loc[j,'Gender']\n",
    "    return w,b\n",
    "def perceptron_voted(y,x,w,b):\n",
    "    W=w\n",
    "    for j in range(4177):\n",
    "        a=np.sign(np.dot(x.loc[[j]],w)+b)\n",
    "        if y.loc[j,'Gender']*a<0:\n",
    "            for i in range(len(w)):\n",
    "                w[i]+=(y.loc[j,'Gender'])*(x.loc[j,i+1])\n",
    "            W=np.add(W,w)\n",
    "            b+=y.loc[j,'Gender']\n",
    "    np.multiply(W,1/4177)\n",
    "    return W,b\n",
    "#Reading and importing dataset\n",
    "df1=pd.read_csv(\"abalone.txt\",sep=\",\",header=None)\n",
    "#print(df1)\n",
    "df2 = df1.rename(columns={0: 'Gender'})\n",
    "#print(df2)\n",
    "#Changing some labels to make the data fit into signum function\n",
    "for i in df2.index:\n",
    "    if df2.loc[i,'Gender']=='I':\n",
    "        df2.loc[i,'Gender']=-1\n",
    "    else:\n",
    "        df2.loc[i,'Gender']=1\n",
    "print(df2)\n",
    "df3=df1.drop([0], axis = 1)\n",
    "print(df3)\n",
    "print(df3.index)\n",
    "print(df3.iloc[[2]])\n",
    "w=[1,1,1,1,1,1,1,1]\n",
    "print(np.sign(df3.iloc[[2]].dot(w)))\n",
    "print(df2.loc[1,'Gender']*(df3.loc[1,3]))\n",
    "\n",
    "\n",
    "#Running the Perceptron functions in the given dataset for learning and provide appropriate values for w and b\n",
    "w1=[]\n",
    "b1=[]\n",
    "w=[1,1,1,1,1,1,1,1]\n",
    "b=0.0\n",
    "for i in range(10):\n",
    "    w,b=perceptron_normal(df2,df3,w,b)\n",
    "    w1.append(w)\n",
    "    b1.append(b)\n",
    "w2=[]\n",
    "b2=[]\n",
    "w=[1,1,1,1,1,1,1,1]\n",
    "b=0.0\n",
    "for i in range(10):\n",
    "    w,b=perceptron_voted(df2,df3,w,b)\n",
    "    w2.append(w)\n",
    "    b2.append(b)\n",
    "    \n",
    "    \n",
    "#Efficiency checking\n",
    "#for normal perceptron\n",
    "x=[]\n",
    "y=[]\n",
    "for i in range(10):  \n",
    "    m=0\n",
    "    for j in range(4177):\n",
    "        a=np.sign(np.dot(df3.loc[[j]],w1[i])+b1[i])\n",
    "        if df2.loc[j,'Gender']==a:\n",
    "            m+=1\n",
    "    k=(m/4177)*100\n",
    "    x.append(i)\n",
    "    y.append(k)\n",
    "#for voted perceptron\n",
    "X=[]\n",
    "Y=[]\n",
    "for i in range(10):  \n",
    "    m=0\n",
    "    for j in range(4177):\n",
    "        a=np.sign(np.dot(df3.loc[[j]],w2[i])+b2[i])\n",
    "        if df2.loc[j,'Gender']==a:\n",
    "            m+=1\n",
    "    k=(m/4177)*100\n",
    "    X.append(i)\n",
    "    Y.append(k)\n",
    "# plotting epoch vs efficiency for normal perceptron\n",
    "plt.plot(x, y)\n",
    "plt.xlabel('Epochs')\n",
    "plt.ylabel('Efficiency')\n",
    "plt.title('Normal Perceptron: Epoch vs Efficiency')\n",
    "plt.show()\n",
    "# plotting Epoch vs efficiency for voted perceptron \n",
    "plt.plot(X, Y)\n",
    "plt.xlabel('Epochs')\n",
    "plt.ylabel('Efficiency')\n",
    "plt.title('Voted Perceptron: Epoch vs Efficiency')\n",
    "plt.show()"
   ]
  },
  {
   "cell_type": "code",
   "execution_count": null,
   "metadata": {},
   "outputs": [],
   "source": []
  }
 ],
 "metadata": {
  "kernelspec": {
   "display_name": "Python 3",
   "language": "python",
   "name": "python3"
  },
  "language_info": {
   "codemirror_mode": {
    "name": "ipython",
    "version": 3
   },
   "file_extension": ".py",
   "mimetype": "text/x-python",
   "name": "python",
   "nbconvert_exporter": "python",
   "pygments_lexer": "ipython3",
   "version": "3.8.5"
  }
 },
 "nbformat": 4,
 "nbformat_minor": 4
}
