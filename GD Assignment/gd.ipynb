{
 "cells": [
  {
   "cell_type": "code",
   "execution_count": 1,
   "metadata": {},
   "outputs": [
    {
     "name": "stdout",
     "output_type": "stream",
     "text": [
      "intercept -2.3360443382163396\n",
      "slope [6.031578]\n",
      "m from Batch GD: 5.740387119632914 c from batch GD: 7.610204464170955\n",
      "m from Mini Batch GD: 6.165839481897316 c from Mini Batch GD: -3.705413445259137\n",
      "m from SGD: 6.165839481897316 c from SGD: -3.705413445259137\n"
     ]
    },
    {
     "data": {
      "image/png": "[encoded data removed]",
      "text/plain": [
       "<Figure size 432x288 with 1 Axes>"
      ]
     },
     "metadata": {
      "needs_background": "light"
     },
     "output_type": "display_data"
    }
   ],
   "source": [
    "import numpy as np\n",
    "import random\n",
    "import matplotlib.pyplot as plt\n",
    "import sklearn.datasets as datasets\n",
    "from sklearn.linear_model import LinearRegression\n",
    "X= np.random.randint(0,50,(150))\n",
    "C= np.random.randint(-30,30,(150))\n",
    "Y=[]\n",
    "for i in range(150):\n",
    "    k=6*X[i] + C[i]\n",
    "    Y.append(k)\n",
    "#printing the datas\n",
    "plt.scatter(X,Y, label=\"data\")\n",
    "#Reshapping the array for doing linear regression\n",
    "#fisrt input is number of rows and second input is number of columns\n",
    "x=np.array(X).reshape((-1,1))\n",
    "reg=LinearRegression().fit(x,Y)\n",
    "#printing slope and intercept of the fit\n",
    "print('intercept', reg.intercept_)\n",
    "print('slope',reg.coef_)\n",
    "#printing the datas with the fit\n",
    "plt.plot\n",
    "plt.plot(X, reg.predict(x), color='k')\n",
    "#defining the cost function\n",
    "#in every function x, y are input matrices, m,c are slope and intercept respectively\n",
    "#defining functions\n",
    "def cost_fn(x,y,C,m,c):\n",
    "    k=0\n",
    "    n=len(y)\n",
    "    for i in range(n):\n",
    "        k+=((y[i] - (m*(x[i][0]) + C[i]))*(y[i] - (m*(x[i][0]) + C[i])))\n",
    "    cost=k/n\n",
    "    return cost\n",
    "def updating_m_and_c(x,y,m,c,learning_rate):\n",
    "    k=0.0\n",
    "    l=0.0\n",
    "    m_partial_der=0.0\n",
    "    c_partial_der=0.0\n",
    "    n=len(y)\n",
    "    for i in range(n):\n",
    "        k+= -2*x[i]*(y[i] - (m*(x[i]) + c))\n",
    "        l+= -2*(y[i] - (m*(x[i]) + c))\n",
    "    m_partial_der=k/n\n",
    "    c_partial_der=l/n\n",
    "    m-=(m_partial_der*learning_rate)\n",
    "    c-=(c_partial_der*learning_rate)\n",
    "    return m,c\n",
    "#n1 = number of times the process is repeating\n",
    "#m_p and c_p are initial guesses of slope and intercept\n",
    "def batch_gd(x,y,m_p,c_p,learning_rate,n1):\n",
    "    for i in range(n1):\n",
    "        m_p,c_p=updating_m_and_c(x,y,m_p,c_p,learning_rate)\n",
    "    return m_p,c_p\n",
    "def mini_batch_gd(x,y,m_p,c_p,learning_rate,n1,n2):\n",
    "#n1 = number of times the process is repeating, n2 = number of batches\n",
    "    n=len(y)\n",
    "    n3=int(n/n2)\n",
    "    #n3= number of elements in each batch\n",
    "    #turning x and y into matrices having rows equal to the number of batches\n",
    "    X=np.array(x).reshape((n2,-1))\n",
    "    Y=np.array(y).reshape((n2,-1))\n",
    "    for j in range(n1):\n",
    "        for i in range(n2):\n",
    "            x2=X[i]\n",
    "            y2=Y[i]\n",
    "            for s in range(n3):\n",
    "                m_p,c_p=updating_m_and_c(x2,y2,m_p,c_p,learning_rate)\n",
    "    return m_p,c_p\n",
    "\n",
    "def sgd(x,y,m_p,c_p,learning_rate,n1):\n",
    "#n1 = number of times the process is repeating\n",
    "    n=len(y)\n",
    "    X=np.array(x).reshape((-1,1))\n",
    "    Y=np.array(y).reshape((-1,1))\n",
    "    for j in range(n1):\n",
    "        for i in range(n):\n",
    "            x2=X[i]\n",
    "            y2=Y[i]\n",
    "            m_p,c_p=updating_m_and_c(x2,y2,m_p,c_p,learning_rate)\n",
    "    return m_p,c_p\n",
    "   \n",
    "#Outputs\n",
    "m,c=batch_gd(X, Y, 12, 10, 0.001  , 500)\n",
    "print(\"m from Batch GD:\",m,\"c from batch GD:\",c)\n",
    "m2,c2=mini_batch_gd(X, Y, 12, 10, 0.001  , 500, 5)    \n",
    "print(\"m from Mini Batch GD:\",m2,\"c from Mini Batch GD:\",c2)\n",
    "m3,c3=sgd(X, Y, 12, 10, 0.001  , 500)  \n",
    "print(\"m from SGD:\",m2,\"c from SGD:\",c2)\n",
    "    \n",
    "    \n",
    "        \n",
    "    \n",
    "        \n",
    "    \n",
    "    \n",
    "     "
   ]
  },
  {
   "cell_type": "code",
   "execution_count": null,
   "metadata": {},
   "outputs": [],
   "source": []
  }
 ],
 "metadata": {
  "kernelspec": {
   "display_name": "Python 3",
   "language": "python",
   "name": "python3"
  },
  "language_info": {
   "codemirror_mode": {
    "name": "ipython",
    "version": 3
   },
   "file_extension": ".py",
   "mimetype": "text/x-python",
   "name": "python",
   "nbconvert_exporter": "python",
   "pygments_lexer": "ipython3",
   "version": "3.8.5"
  }
 },
 "nbformat": 4,
 "nbformat_minor": 4
}
