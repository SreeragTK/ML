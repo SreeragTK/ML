{
 "cells": [
  {
   "cell_type": "code",
   "execution_count": 1,
   "metadata": {},
   "outputs": [],
   "source": [
    "# 1.Import the numpy package under the name np\n",
    "import numpy as np"
   ]
  },
  {
   "cell_type": "code",
   "execution_count": 4,
   "metadata": {},
   "outputs": [
    {
     "name": "stdout",
     "output_type": "stream",
     "text": [
      "1.19.2\n",
      "blas_mkl_info:\n",
      "    libraries = ['mkl_rt', 'pthread']\n",
      "    library_dirs = ['/home/sreerag/anaconda3/lib']\n",
      "    define_macros = [('SCIPY_MKL_H', None), ('HAVE_CBLAS', None)]\n",
      "    include_dirs = ['/home/sreerag/anaconda3/include']\n",
      "blas_opt_info:\n",
      "    libraries = ['mkl_rt', 'pthread']\n",
      "    library_dirs = ['/home/sreerag/anaconda3/lib']\n",
      "    define_macros = [('SCIPY_MKL_H', None), ('HAVE_CBLAS', None)]\n",
      "    include_dirs = ['/home/sreerag/anaconda3/include']\n",
      "lapack_mkl_info:\n",
      "    libraries = ['mkl_rt', 'pthread']\n",
      "    library_dirs = ['/home/sreerag/anaconda3/lib']\n",
      "    define_macros = [('SCIPY_MKL_H', None), ('HAVE_CBLAS', None)]\n",
      "    include_dirs = ['/home/sreerag/anaconda3/include']\n",
      "lapack_opt_info:\n",
      "    libraries = ['mkl_rt', 'pthread']\n",
      "    library_dirs = ['/home/sreerag/anaconda3/lib']\n",
      "    define_macros = [('SCIPY_MKL_H', None), ('HAVE_CBLAS', None)]\n",
      "    include_dirs = ['/home/sreerag/anaconda3/include']\n"
     ]
    }
   ],
   "source": [
    "#2.Print the numpy version and the configuration \n",
    "#For version\n",
    "print(np.__version__)\n",
    "#For configaration\n",
    "np.show_config()"
   ]
  },
  {
   "cell_type": "code",
   "execution_count": 8,
   "metadata": {},
   "outputs": [
    {
     "name": "stdout",
     "output_type": "stream",
     "text": [
      "[0. 0. 0. 0. 0. 0. 0. 0. 0. 0.]\n",
      "10\n"
     ]
    }
   ],
   "source": [
    "#3.Create a null vector of size 10 \n",
    "x=np.zeros(10)\n",
    "print(x)\n",
    "print(x.size)"
   ]
  },
  {
   "cell_type": "code",
   "execution_count": 9,
   "metadata": {},
   "outputs": [
    {
     "name": "stdout",
     "output_type": "stream",
     "text": [
      "80 bytes\n",
      "Memory size of one array element(in bytes):  8\n",
      "Memory size of numpy array(in bytes): 80\n"
     ]
    }
   ],
   "source": [
    "#4.How to find the memory size of any array\n",
    "print(\"%d bytes\" % (x.size * x.itemsize))\n",
    "print(\"Memory size of one array element(in bytes): \",x.itemsize)\n",
    "  \n",
    "# memory size of numpy array in bytes\n",
    "print(\"Memory size of numpy array(in bytes):\",x.size * x.itemsize)"
   ]
  },
  {
   "cell_type": "code",
   "execution_count": 10,
   "metadata": {},
   "outputs": [],
   "source": [
    "#5.How to get the documentation of the numpy add function from the command line?\n"
   ]
  },
  {
   "cell_type": "code",
   "execution_count": 11,
   "metadata": {},
   "outputs": [
    {
     "name": "stdout",
     "output_type": "stream",
     "text": [
      "[0. 0. 0. 0. 1. 0. 0. 0. 0. 0.]\n"
     ]
    }
   ],
   "source": [
    "#6.Create a null vector of size 10 but the fifth value which is 1\n",
    "y=np.zeros(10)\n",
    "y[4]=1\n",
    "print(y)"
   ]
  },
  {
   "cell_type": "code",
   "execution_count": 3,
   "metadata": {},
   "outputs": [
    {
     "name": "stdout",
     "output_type": "stream",
     "text": [
      "[10 11 12 13 14 15 16 17 18 19 20 21 22 23 24 25 26 27 28 29 30 31 32 33\n",
      " 34 35 36 37 38 39 40 41 42 43 44 45 46 47 48 49]\n"
     ]
    }
   ],
   "source": [
    "#7.Create a vector with values ranging from 10 to 49 \n",
    "x=np.arange(10,50)\n",
    "print(x)\n"
   ]
  },
  {
   "cell_type": "code",
   "execution_count": 11,
   "metadata": {},
   "outputs": [
    {
     "name": "stdout",
     "output_type": "stream",
     "text": [
      "[49 48 47 46 45 44 43 42 41 40 39 38 37 36 35 34 33 32 31 30 29 28 27 26\n",
      " 25 24 23 22 21 20 19 18 17 16 15 14 13 12 11 10]\n",
      "[49 48 47 46 45 44 43 42 41 40 39 38 37 36 35 34 33 32 31 30 29 28 27 26\n",
      " 25 24 23 22 21 20 19 18 17 16 15 14 13 12 11 10]\n"
     ]
    }
   ],
   "source": [
    "#8.Reverse a vector (first element becomes last) \n",
    "x=np.arange(10,50)\n",
    "y=np.flipud(x)\n",
    "print(y)\n",
    "#second method\n",
    "z=x[::-1]\n",
    "print(z)\n",
    "#For multidimensional array use np.fliplr(x)\n",
    "\n"
   ]
  },
  {
   "cell_type": "code",
   "execution_count": 14,
   "metadata": {},
   "outputs": [
    {
     "name": "stdout",
     "output_type": "stream",
     "text": [
      "[[0 1 2]\n",
      " [3 4 5]\n",
      " [6 7 8]]\n"
     ]
    }
   ],
   "source": [
    "#9.Create a 3x3 matrix with values ranging from 0 to 8\n",
    "x=np.arange(9).reshape(3,3)\n",
    "print(x)"
   ]
  },
  {
   "cell_type": "code",
   "execution_count": 16,
   "metadata": {},
   "outputs": [
    {
     "name": "stdout",
     "output_type": "stream",
     "text": [
      "(array([0, 1, 4]),)\n"
     ]
    }
   ],
   "source": [
    "#10.Find indices of non-zero elements from [1,2,0,0,4,0] \n",
    "x=[1,2,0,0,4,0]\n",
    "k=np.nonzero(x)\n",
    "print(k)"
   ]
  },
  {
   "cell_type": "code",
   "execution_count": 17,
   "metadata": {},
   "outputs": [
    {
     "name": "stdout",
     "output_type": "stream",
     "text": [
      "[[1. 0. 0.]\n",
      " [0. 1. 0.]\n",
      " [0. 0. 1.]]\n"
     ]
    }
   ],
   "source": [
    "#11.Create a 3x3 identity matrix\n",
    "x=np.eye(3)\n",
    "print(x)"
   ]
  },
  {
   "cell_type": "code",
   "execution_count": 21,
   "metadata": {},
   "outputs": [
    {
     "name": "stdout",
     "output_type": "stream",
     "text": [
      "[[[0.12834865 0.430015   0.40083821]\n",
      "  [0.77516535 0.67912183 0.68364981]\n",
      "  [0.70457349 0.38749937 0.30083477]]\n",
      "\n",
      " [[0.47686953 0.3326441  0.49255641]\n",
      "  [0.81727279 0.7605479  0.46554196]\n",
      "  [0.44640459 0.62710933 0.55051627]]\n",
      "\n",
      " [[0.89649574 0.36468584 0.94441357]\n",
      "  [0.29304175 0.02305033 0.31841753]\n",
      "  [0.78798257 0.55849345 0.19233356]]]\n"
     ]
    }
   ],
   "source": [
    "#12.Create a 3x3x3 array with random values\n",
    "x=np.random.random((3,3,3))\n",
    "print(x)\n",
    "#use seed function to obtain same value of random naumbers in case we are repeating the operation\n",
    "#eg. np.random.seed(42)"
   ]
  },
  {
   "cell_type": "code",
   "execution_count": 31,
   "metadata": {},
   "outputs": [
    {
     "name": "stdout",
     "output_type": "stream",
     "text": [
      "0.00011265893394130089 0.9894354355461424\n",
      "3 99\n"
     ]
    }
   ],
   "source": [
    "#13.Create a 10x10 array with random values and find the minimum and maximum values\n",
    "x=np.random.random((10,10))\n",
    "#np.random.random() returns a value between 0 and 1\n",
    "y=np.random.randint(1,100,(10,10))\n",
    "x_min,x_max = x.min(),x.max()\n",
    "y_min,y_max = y.min(),y.max()\n",
    "print(x_min,x_max)\n",
    "print(y_min,y_max)"
   ]
  },
  {
   "cell_type": "code",
   "execution_count": 34,
   "metadata": {},
   "outputs": [
    {
     "name": "stdout",
     "output_type": "stream",
     "text": [
      "0.43278242250524734\n"
     ]
    }
   ],
   "source": [
    "#14.Create a random vector of size 30 and find the mean value\n",
    "x=np.random.random(30)\n",
    "mean=x.mean()\n",
    "print(mean)"
   ]
  },
  {
   "cell_type": "code",
   "execution_count": 42,
   "metadata": {},
   "outputs": [
    {
     "name": "stdout",
     "output_type": "stream",
     "text": [
      "[[1. 1. 1. 1. 1. 1.]\n",
      " [1. 0. 0. 0. 0. 1.]\n",
      " [1. 0. 0. 0. 0. 1.]\n",
      " [1. 0. 0. 0. 0. 1.]\n",
      " [1. 0. 0. 0. 0. 1.]\n",
      " [1. 1. 1. 1. 1. 1.]]\n",
      "[[1. 1. 1. 1. 1. 1. 1. 1.]\n",
      " [1. 0. 0. 0. 0. 0. 0. 1.]\n",
      " [1. 0. 0. 0. 0. 0. 0. 1.]\n",
      " [1. 0. 0. 0. 0. 0. 0. 1.]\n",
      " [1. 0. 0. 0. 0. 0. 0. 1.]\n",
      " [1. 0. 0. 0. 0. 0. 0. 1.]\n",
      " [1. 0. 0. 0. 0. 0. 0. 1.]\n",
      " [1. 1. 1. 1. 1. 1. 1. 1.]]\n"
     ]
    }
   ],
   "source": [
    "#15.Create a 2d array with 1 on the border and 0 inside\n",
    "x=np.ones((6,6))\n",
    "x[1:-1,1:-1]=0\n",
    "print(x)\n",
    "# using np.pad()\n",
    "y=np.zeros((6,6))\n",
    "y=np.pad(y, pad_width=1, mode='constant',\n",
    "               constant_values=1)\n",
    "print(y)"
   ]
  },
  {
   "cell_type": "code",
   "execution_count": 46,
   "metadata": {},
   "outputs": [
    {
     "name": "stdout",
     "output_type": "stream",
     "text": [
      "[[10  9  0 51 74 18]\n",
      " [27 54 24  5 42 59]\n",
      " [45 50 54  2 81  8]\n",
      " [ 0 58  3 68  3 46]\n",
      " [62 48 25 26 77 32]\n",
      " [79 13 22 55 40 82]]\n",
      "[[ 0  0  0  0  0  0  0  0]\n",
      " [ 0 10  9  0 51 74 18  0]\n",
      " [ 0 27 54 24  5 42 59  0]\n",
      " [ 0 45 50 54  2 81  8  0]\n",
      " [ 0  0 58  3 68  3 46  0]\n",
      " [ 0 62 48 25 26 77 32  0]\n",
      " [ 0 79 13 22 55 40 82  0]\n",
      " [ 0  0  0  0  0  0  0  0]]\n"
     ]
    }
   ],
   "source": [
    "#16.How to add a border (filled with 0's) around an existing array? \n",
    "x=np.random.randint(0,100,(6,6))\n",
    "print(x)\n",
    "x=np.pad(x, pad_width=1, mode='constant',\n",
    "               constant_values=0)\n",
    "print(x)"
   ]
  },
  {
   "cell_type": "code",
   "execution_count": 47,
   "metadata": {},
   "outputs": [
    {
     "name": "stdout",
     "output_type": "stream",
     "text": [
      "nan\n",
      "False\n",
      "False\n",
      "nan\n",
      "True\n",
      "False\n"
     ]
    }
   ],
   "source": [
    "#17.What is the result of the following expression? \n",
    "print(0 * np.nan)\n",
    "print(np.nan == np.nan)\n",
    "print(np.inf > np.nan)\n",
    "print(np.nan - np.nan)\n",
    "print(np.nan in set([np.nan]))\n",
    "print(0.3 == 3 * 0.1)"
   ]
  },
  {
   "cell_type": "code",
   "execution_count": 54,
   "metadata": {},
   "outputs": [
    {
     "name": "stdout",
     "output_type": "stream",
     "text": [
      "[[0 0 0 0 0]\n",
      " [1 0 0 0 0]\n",
      " [0 2 0 0 0]\n",
      " [0 0 3 0 0]\n",
      " [0 0 0 4 0]]\n"
     ]
    }
   ],
   "source": [
    "#18.Create a 5x5 matrix with values 1,2,3,4 just below the diagonal\n",
    "x=np.diag(1+np.arange(4),k=-1)\n",
    "#with k value the diagonal choosen changes\n",
    "print(x)"
   ]
  },
  {
   "cell_type": "code",
   "execution_count": 70,
   "metadata": {},
   "outputs": [
    {
     "name": "stdout",
     "output_type": "stream",
     "text": [
      "[[0 1 0 1 0 1 0 1]\n",
      " [1 0 1 0 1 0 1 0]\n",
      " [0 1 0 1 0 1 0 1]\n",
      " [1 0 1 0 1 0 1 0]\n",
      " [0 1 0 1 0 1 0 1]\n",
      " [1 0 1 0 1 0 1 0]\n",
      " [0 1 0 1 0 1 0 1]\n",
      " [1 0 1 0 1 0 1 0]]\n"
     ]
    }
   ],
   "source": [
    "#19.Create a 8x8 matrix and fill it with a checkerboard pattern\n",
    "x= np.zeros((8,8),dtype=int)\n",
    "x[1::2,0::2]=1\n",
    "x[0::2,1::2]=1\n",
    "#here first input implies the pattern through row-wise and second implies column wise\n",
    "#first digit in each input implies from which row/column to start\n",
    "print(x)"
   ]
  },
  {
   "cell_type": "code",
   "execution_count": 77,
   "metadata": {},
   "outputs": [
    {
     "name": "stdout",
     "output_type": "stream",
     "text": [
      "(1, 5, 3)\n"
     ]
    }
   ],
   "source": [
    "#20.Consider a (6,7,8) shape array, what is the index (x,y,z) of the 100th element?\n",
    "np.random.seed(42)\n",
    "x=np.random.randint(0,200,(6,7,8))\n",
    "print(np.unravel_index(99,(6,7,8)))\n",
    "#For finding index of a specified element list.index(element, start, end)"
   ]
  },
  {
   "cell_type": "code",
   "execution_count": 79,
   "metadata": {},
   "outputs": [
    {
     "name": "stdout",
     "output_type": "stream",
     "text": [
      "[[0 1 0 1 0 1 0 1]\n",
      " [1 0 1 0 1 0 1 0]\n",
      " [0 1 0 1 0 1 0 1]\n",
      " [1 0 1 0 1 0 1 0]\n",
      " [0 1 0 1 0 1 0 1]\n",
      " [1 0 1 0 1 0 1 0]\n",
      " [0 1 0 1 0 1 0 1]\n",
      " [1 0 1 0 1 0 1 0]]\n"
     ]
    }
   ],
   "source": [
    "#21.Create a checkerboard 8x8 matrix using the tile function\n",
    "#numpy.tile(arr, repetitions)  \n",
    "#repetations=(a,b) ,a= row wise repetation, b=column wise repetation\n",
    "x=[[0,1],[1,0]]\n",
    "x=np.tile(x,(4,4))\n",
    "print(x)"
   ]
  },
  {
   "cell_type": "code",
   "execution_count": 82,
   "metadata": {},
   "outputs": [
    {
     "name": "stdout",
     "output_type": "stream",
     "text": [
      "[[20  2  0 19 20]\n",
      " [22  0  2 17 24]\n",
      " [ 9 21  2  7 13]\n",
      " [23 17 14 21 22]\n",
      " [ 1  9  1 16  7]]\n",
      "[[ 0.9080425  -1.23132465 -1.46903211  0.78918877  0.9080425 ]\n",
      " [ 1.14574996 -1.46903211 -1.23132465  0.55148131  1.38345742]\n",
      " [-0.39934853  1.02689623 -1.23132465 -0.63705599  0.07606639]\n",
      " [ 1.26460369  0.55148131  0.19492012  1.02689623  1.14574996]\n",
      " [-1.35017838 -0.39934853 -1.35017838  0.43262758 -0.63705599]]\n"
     ]
    }
   ],
   "source": [
    "#22. Normalize a 5x5 random matrix\n",
    "x=np.random.randint(0,25,(5,5))\n",
    "print(x)\n",
    "x=(x-np.mean (x)) / (np.std (x))\n",
    "print(x)"
   ]
  },
  {
   "cell_type": "code",
   "execution_count": 85,
   "metadata": {},
   "outputs": [
    {
     "name": "stdout",
     "output_type": "stream",
     "text": [
      "[('r', 'u1'), ('g', 'u1'), ('b', 'u1'), ('a', 'u1')]\n"
     ]
    }
   ],
   "source": [
    "#23. Create a custom dtype that describes a color as four unsigned bytes (RGBA)\n",
    "color=np.dtype([(\"r\", np.ubyte),(\"g\", np.ubyte),(\"b\", np.ubyte),(\"a\", np.ubyte)])\n",
    "print(color)"
   ]
  },
  {
   "cell_type": "code",
   "execution_count": 86,
   "metadata": {},
   "outputs": [
    {
     "name": "stdout",
     "output_type": "stream",
     "text": [
      "[[118  40]\n",
      " [157  51]\n",
      " [ 78  23]\n",
      " [170  53]\n",
      " [128  42]]\n"
     ]
    }
   ],
   "source": [
    "#24. Multiply a 5x3 matrix by a 3x2 matrix (real matrix product)\n",
    "x=np.random.randint(1,11,(5,3))\n",
    "y=np.random.randint(1,11,(3,2))\n",
    "print(np.dot(x,y))"
   ]
  },
  {
   "cell_type": "code",
   "execution_count": 93,
   "metadata": {},
   "outputs": [
    {
     "name": "stdout",
     "output_type": "stream",
     "text": [
      "[ 4  6  3  5 12 19 14  2  7 19]\n",
      "[ True  True False  True False False False False  True False]\n",
      "[-4 -6  3 -5 12 19 14  2 -7 19]\n"
     ]
    }
   ],
   "source": [
    "#25. Given a 1D array, negate all elements which are between 3 and 8, in place\n",
    "x=np.random.randint(0,21,10)\n",
    "print(x)\n",
    "#choosing elements which are between 3 and 8\n",
    "m=(x>3) & (x<8)\n",
    "print(m)\n",
    "#changing the elements of x corresponding to the selected indices\n",
    "x[m]*=-1\n",
    "print(x)"
   ]
  },
  {
   "cell_type": "code",
   "execution_count": 94,
   "metadata": {},
   "outputs": [
    {
     "name": "stdout",
     "output_type": "stream",
     "text": [
      "9\n",
      "10\n"
     ]
    }
   ],
   "source": [
    "#26. What is the output of the following script?\n",
    "print(sum(range(5),-1))\n",
    "from numpy import *\n",
    "print(sum(range(5),-1))\n"
   ]
  },
  {
   "cell_type": "code",
   "execution_count": 97,
   "metadata": {},
   "outputs": [
    {
     "name": "stdout",
     "output_type": "stream",
     "text": [
      "[[1 1 1 1 1 1 1 1]\n",
      " [1 1 1 1 1 1 1 1]\n",
      " [1 1 1 1 1 1 1 1]\n",
      " [1 1 1 1 1 1 1 1]\n",
      " [1 1 1 1 1 1 1 1]\n",
      " [1 1 1 1 1 1 1 1]\n",
      " [1 1 1 1 1 1 1 1]\n",
      " [1 1 1 1 1 1 1 1]]\n",
      "[[0 0 0 0 0 0 0 0]\n",
      " [1 0 1 0 1 0 1 0]\n",
      " [0 0 0 0 0 0 0 0]\n",
      " [1 0 1 0 1 0 1 0]\n",
      " [0 0 0 0 0 0 0 0]\n",
      " [1 0 1 0 1 0 1 0]\n",
      " [0 0 0 0 0 0 0 0]\n",
      " [1 0 1 0 1 0 1 0]]\n",
      "[[False False False False False False False False]\n",
      " [False False False False False False False False]\n",
      " [False False False False False False False False]\n",
      " [False False False False False False False False]\n",
      " [False False False False False False False False]\n",
      " [False False False False False False False False]\n",
      " [False False False False False False False False]\n",
      " [False False False False False False False False]]\n",
      "[[0.+0.j 0.+0.j 0.+0.j 0.+0.j 0.+0.j 0.+0.j 0.+0.j 0.+0.j]\n",
      " [0.+1.j 0.+0.j 0.+1.j 0.+0.j 0.+1.j 0.+0.j 0.+1.j 0.+0.j]\n",
      " [0.+0.j 0.+0.j 0.+0.j 0.+0.j 0.+0.j 0.+0.j 0.+0.j 0.+0.j]\n",
      " [0.+1.j 0.+0.j 0.+1.j 0.+0.j 0.+1.j 0.+0.j 0.+1.j 0.+0.j]\n",
      " [0.+0.j 0.+0.j 0.+0.j 0.+0.j 0.+0.j 0.+0.j 0.+0.j 0.+0.j]\n",
      " [0.+1.j 0.+0.j 0.+1.j 0.+0.j 0.+1.j 0.+0.j 0.+1.j 0.+0.j]\n",
      " [0.+0.j 0.+0.j 0.+0.j 0.+0.j 0.+0.j 0.+0.j 0.+0.j 0.+0.j]\n",
      " [0.+1.j 0.+0.j 0.+1.j 0.+0.j 0.+1.j 0.+0.j 0.+1.j 0.+0.j]]\n",
      "[[0. 0. 0. 0. 0. 0. 0. 0.]\n",
      " [1. 0. 1. 0. 1. 0. 1. 0.]\n",
      " [0. 0. 0. 0. 0. 0. 0. 0.]\n",
      " [1. 0. 1. 0. 1. 0. 1. 0.]\n",
      " [0. 0. 0. 0. 0. 0. 0. 0.]\n",
      " [1. 0. 1. 0. 1. 0. 1. 0.]\n",
      " [0. 0. 0. 0. 0. 0. 0. 0.]\n",
      " [1. 0. 1. 0. 1. 0. 1. 0.]]\n"
     ]
    },
    {
     "ename": "ValueError",
     "evalue": "The truth value of an array with more than one element is ambiguous. Use a.any() or a.all()",
     "output_type": "error",
     "traceback": [
      "\u001b[0;31m---------------------------------------------------------------------------\u001b[0m",
      "\u001b[0;31mValueError\u001b[0m                                Traceback (most recent call last)",
      "\u001b[0;32m<ipython-input-97-e7b79ae9f516>\u001b[0m in \u001b[0;36m<module>\u001b[0;34m\u001b[0m\n\u001b[1;32m      6\u001b[0m \u001b[0mprint\u001b[0m\u001b[0;34m(\u001b[0m\u001b[0;36m1j\u001b[0m\u001b[0;34m*\u001b[0m\u001b[0mZ\u001b[0m\u001b[0;34m)\u001b[0m\u001b[0;34m\u001b[0m\u001b[0;34m\u001b[0m\u001b[0m\n\u001b[1;32m      7\u001b[0m \u001b[0mprint\u001b[0m\u001b[0;34m(\u001b[0m\u001b[0mZ\u001b[0m\u001b[0;34m/\u001b[0m\u001b[0;36m1\u001b[0m\u001b[0;34m/\u001b[0m\u001b[0;36m1\u001b[0m\u001b[0;34m)\u001b[0m\u001b[0;34m\u001b[0m\u001b[0;34m\u001b[0m\u001b[0m\n\u001b[0;32m----> 8\u001b[0;31m \u001b[0mprint\u001b[0m\u001b[0;34m(\u001b[0m\u001b[0mZ\u001b[0m\u001b[0;34m<\u001b[0m\u001b[0mZ\u001b[0m\u001b[0;34m>\u001b[0m\u001b[0mZ\u001b[0m\u001b[0;34m)\u001b[0m\u001b[0;34m\u001b[0m\u001b[0;34m\u001b[0m\u001b[0m\n\u001b[0m",
      "\u001b[0;31mValueError\u001b[0m: The truth value of an array with more than one element is ambiguous. Use a.any() or a.all()"
     ]
    }
   ],
   "source": [
    "#27. Consider an integer vector Z, which of these expressions are legal? \n",
    "z=np.random.randint(1,11,10)\n",
    "print(Z**Z)\n",
    "print(2 << Z >> 2)\n",
    "print(Z <- Z)\n",
    "print(1j*Z)\n",
    "print(Z/1/1)\n",
    "print(Z<Z>Z)"
   ]
  },
  {
   "cell_type": "code",
   "execution_count": 98,
   "metadata": {},
   "outputs": [
    {
     "name": "stdout",
     "output_type": "stream",
     "text": [
      "nan\n",
      "0\n",
      "[-9.22337204e+18]\n"
     ]
    },
    {
     "name": "stderr",
     "output_type": "stream",
     "text": [
      "<ipython-input-98-4452e2f85b25>:2: RuntimeWarning: invalid value encountered in true_divide\n",
      "  print(np.array(0) / np.array(0))\n",
      "<ipython-input-98-4452e2f85b25>:3: RuntimeWarning: divide by zero encountered in floor_divide\n",
      "  print(np.array(0) // np.array(0))\n"
     ]
    }
   ],
   "source": [
    "#28. What are the result of the following expressions? \n",
    "print(np.array(0) / np.array(0))\n",
    "print(np.array(0) // np.array(0))\n",
    "print(np.array([np.nan]).astype(int).astype(float))"
   ]
  },
  {
   "cell_type": "code",
   "execution_count": 101,
   "metadata": {},
   "outputs": [
    {
     "name": "stdout",
     "output_type": "stream",
     "text": [
      "[  8.   5.  18.  18.  15.   6.  13.   8.   3. -15.  13.  13.   6.  13.\n",
      "   7. -12. -10. -12.  -5. -19.   5.  -7.   7.  -5.   8.  -7. -10.  -1.\n",
      "   8.  -7.  18. -19.  -4.  19.   2.  -4.   3.   4.  10. -15.]\n"
     ]
    }
   ],
   "source": [
    "#29. How to round away from zero a float array ?\n",
    "#np.random.random() returns a floating value between 0 and 1(including 0)\n",
    "#random.uniform() = when we want a floating value a between a user deftined range (a,b)\n",
    "x=np.random.uniform(-20,+20,40)\n",
    "#copysign(x,y):Return x with the sign of y\n",
    "print(np.copysign(np.ceil(np.abs(x)),x))"
   ]
  },
  {
   "cell_type": "code",
   "execution_count": 103,
   "metadata": {},
   "outputs": [
    {
     "name": "stdout",
     "output_type": "stream",
     "text": [
      "[ 4  2 10 10 17 14 11  8  9 11 16  5  6 13 12  7  9  8 17  1  4]\n",
      "[ 4  5 18  7 15 12  0 19 16  6 12  3  3  5 18 11  6  9 18  6  2]\n",
      "[ 2  4  5  6  7  9 11 12 16]\n"
     ]
    }
   ],
   "source": [
    "#30. How to find common values between two arrays? \n",
    "#It can be done using np.intersect1d(x,y) for two 1D arrays\n",
    "x=np.random.randint(0,21,21)\n",
    "print(x)\n",
    "y=np.random.randint(0,21,21)\n",
    "print(y)\n",
    "z=np.intersect1d(x,y)\n",
    "print(z)"
   ]
  },
  {
   "cell_type": "code",
   "execution_count": 6,
   "metadata": {},
   "outputs": [],
   "source": [
    "#31. How to ignore all numpy warnings (not recommended)?\n",
    "#Suicide mode on\n",
    "import numpy as np\n",
    "defaults = np.seterr(all=\"ignore\")\n",
    "x=np.ones(1) / 0\n",
    "\n",
    "#Back to sanity\n",
    "_ = np.seterr(**defaults)\n",
    "\n",
    "#Equivalently with a context manager\n",
    "with np.errstate(all=\"ignore\"):\n",
    "    np.arange(3) / 0\n",
    "    \n",
    "#make use of the Warnings module to ignore all warnings with filterwarnings\n",
    "warnings.filterwarnings('ignore')\n",
    "import warnings\n",
    "#if we want to suppress uniquely your particular error, you could specify it with:\n",
    "with warnings.catch_warnings():\n",
    "    warnings.filterwarnings('ignore', r'All-NaN (slice|axis) encountered')\n"
   ]
  },
  {
   "cell_type": "code",
   "execution_count": 7,
   "metadata": {},
   "outputs": [
    {
     "data": {
      "text/plain": [
       "False"
      ]
     },
     "execution_count": 7,
     "metadata": {},
     "output_type": "execute_result"
    }
   ],
   "source": [
    "#32.Is the following expressions true?\n",
    "np.sqrt(-1) == np.emath.sqrt(-1)"
   ]
  },
  {
   "cell_type": "code",
   "execution_count": 8,
   "metadata": {},
   "outputs": [],
   "source": [
    "#33. How to get the dates of yesterday, today and tomorrow?\n",
    "yesterday=np.datetime64('today') - np.timedelta64(1)\n",
    "today=np.datetime64('today')\n",
    "tomorrow=np.datetime64('today') + np.timedelta64(1)"
   ]
  },
  {
   "cell_type": "code",
   "execution_count": 11,
   "metadata": {},
   "outputs": [
    {
     "name": "stdout",
     "output_type": "stream",
     "text": [
      "['2016-07-01' '2016-07-02' '2016-07-03' '2016-07-04' '2016-07-05'\n",
      " '2016-07-06' '2016-07-07' '2016-07-08' '2016-07-09' '2016-07-10'\n",
      " '2016-07-11' '2016-07-12' '2016-07-13' '2016-07-14' '2016-07-15'\n",
      " '2016-07-16' '2016-07-17' '2016-07-18' '2016-07-19' '2016-07-20'\n",
      " '2016-07-21' '2016-07-22' '2016-07-23' '2016-07-24' '2016-07-25'\n",
      " '2016-07-26' '2016-07-27' '2016-07-28' '2016-07-29' '2016-07-30'\n",
      " '2016-07-31']\n"
     ]
    }
   ],
   "source": [
    "#34. How to get all the dates corresponding to the month of July 2016? \n",
    "#Syntax: numpy.arrange([start, ] stop, [step, ] dtype=None)\n",
    "#Parameters: start : Start of interval   stop : End of interval\n",
    "x=np.arange('2016-07', '2016-08', dtype='datetime64[D]')\n",
    "print(x)"
   ]
  },
  {
   "cell_type": "code",
   "execution_count": 21,
   "metadata": {},
   "outputs": [
    {
     "name": "stdout",
     "output_type": "stream",
     "text": [
      "[[1. 1. 1.]\n",
      " [1. 1. 1.]\n",
      " [1. 1. 1.]]\n",
      "[[2. 2. 2.]\n",
      " [2. 2. 2.]\n",
      " [2. 2. 2.]]\n"
     ]
    },
    {
     "data": {
      "text/plain": [
       "array([[-1.5, -1.5, -1.5],\n",
       "       [-1.5, -1.5, -1.5],\n",
       "       [-1.5, -1.5, -1.5]])"
      ]
     },
     "execution_count": 21,
     "metadata": {},
     "output_type": "execute_result"
    }
   ],
   "source": [
    "#35. How to compute ((A+B)*(-A/2)) in place (without copy)?\n",
    "#Syntax: numpy.ones(shape, dtype = None, order = 'C') \n",
    "A=np.ones((3,3))*1\n",
    "print(A)\n",
    "B=np.ones((3,3))*2\n",
    "print(B)\n",
    "np.add(A,B,out=B)\n",
    "np.divide(A,2,out=A)\n",
    "np.negative(A,out=A)\n",
    "np.multiply(A,B,out=A)"
   ]
  },
  {
   "cell_type": "code",
   "execution_count": 24,
   "metadata": {},
   "outputs": [
    {
     "name": "stdout",
     "output_type": "stream",
     "text": [
      "[18.62653634  3.80756043 14.14719123 13.08869217  3.49192561  7.76444134\n",
      "  7.63770287 10.81094859  6.75146316 12.48233666 16.03989009  0.06356032\n",
      " 14.05938022  2.27666378  3.07536832 18.63226361  3.91645744  4.47301887\n",
      "  9.74262049 17.9836997  11.19511311 15.94856081 19.6851837   3.74475806\n",
      " 12.88963251]\n",
      "[18.  3. 14. 13.  3.  7.  7. 10.  6. 12. 16.  0. 14.  2.  3. 18.  3.  4.\n",
      "  9. 17. 11. 15. 19.  3. 12.]\n",
      "[18  3 14 13  3  7  7 10  6 12 16  0 14  2  3 18  3  4  9 17 11 15 19  3\n",
      " 12]\n",
      "[18.  3. 14. 13.  3.  7.  7. 10.  6. 12. 16.  0. 14.  2.  3. 18.  3.  4.\n",
      "  9. 17. 11. 15. 19.  3. 12.]\n",
      "[0.62653634 0.80756043 0.14719123 0.08869217 0.49192561 0.76444134\n",
      " 0.63770287 0.81094859 0.75146316 0.48233666 0.03989009 0.06356032\n",
      " 0.05938022 0.27666378 0.07536832 0.63226361 0.91645744 0.47301887\n",
      " 0.74262049 0.9836997  0.19511311 0.94856081 0.6851837  0.74475806\n",
      " 0.88963251]\n",
      "[18.  3. 14. 13.  3.  7.  7. 10.  6. 12. 16.  0. 14.  2.  3. 18.  3.  4.\n",
      "  9. 17. 11. 15. 19.  3. 12.]\n",
      "[18.  3. 14. 13.  3.  7.  7. 10.  6. 12. 16.  0. 14.  2.  3. 18.  3.  4.\n",
      "  9. 17. 11. 15. 19.  3. 12.]\n"
     ]
    }
   ],
   "source": [
    "#36. Extract the integer part of a random array of positive numbers using 4 different methods\n",
    "x=np.random.uniform(0,20,25)\n",
    "print(x)\n",
    "#np.trunc() returns closest integer(less than or equal to) of the elements of the input array\n",
    "y=np.trunc(x)\n",
    "print(y)\n",
    "# x.astype(Data type) coverts values in x to inputted data type\n",
    "y=x.astype(int)\n",
    "print(y)\n",
    "#we can also use np.floor()\n",
    "#int rounds towards 0, while floor rounds towards negative infinity\n",
    "y=np.floor(x)\n",
    "print(y)\n",
    "print(x%1)\n",
    "print(x-x%1)\n",
    "print(x//1)\n",
    "\n",
    "\n"
   ]
  },
  {
   "cell_type": "code",
   "execution_count": 12,
   "metadata": {},
   "outputs": [
    {
     "name": "stdout",
     "output_type": "stream",
     "text": [
      "[0 1 2 3 4]\n",
      "[0 1 2 3 4 0 1 2 3 4]\n",
      "[array([0, 1, 2, 3, 4]), array([0, 1, 2, 3, 4]), array([0, 1, 2, 3, 4]), array([0, 1, 2, 3, 4]), array([0, 1, 2, 3, 4])]\n",
      "[[0 1 2 3 4]\n",
      " [0 1 2 3 4]\n",
      " [0 1 2 3 4]\n",
      " [0 1 2 3 4]\n",
      " [0 1 2 3 4]]\n",
      "[[0. 1. 2. 3. 4.]\n",
      " [0. 1. 2. 3. 4.]\n",
      " [0. 1. 2. 3. 4.]\n",
      " [0. 1. 2. 3. 4.]\n",
      " [0. 1. 2. 3. 4.]]\n",
      "[[0 1 2 3 4]\n",
      " [0 1 2 3 4]\n",
      " [0 1 2 3 4]\n",
      " [0 1 2 3 4]\n",
      " [0 1 2 3 4]]\n"
     ]
    }
   ],
   "source": [
    "#37. Create a 5x5 matrix with row values ranging from 0 to 4\n",
    "#using np.arange()\n",
    "import numpy as np\n",
    "x=np.arange(5)\n",
    "print(x)\n",
    "y=np.append(x,x,axis=0)\n",
    "print(y)\n",
    "z=[]\n",
    "for i in range(5):\n",
    "    z.append(x)\n",
    "print(z)\n",
    "a=np.array(z)\n",
    "print(a)\n",
    "\n",
    "#another method\n",
    "a=np.zeros((5,5))\n",
    "a+=np.arange(5)\n",
    "print(a)\n",
    "\n",
    "#using np.tile\n",
    "#numpy.tile(arr, repetitions)\n",
    "#repetitions : No. of repetitions of arr along each axis. \n",
    "y=np.tile(x,(5,1))\n",
    "print(y)"
   ]
  },
  {
   "cell_type": "code",
   "execution_count": 20,
   "metadata": {},
   "outputs": [
    {
     "name": "stdout",
     "output_type": "stream",
     "text": [
      "<generator object generate at 0x7fc638d53f90>\n",
      "[0, 1, 2, 3, 4, 5, 6, 7, 8, 9]\n",
      "[0. 1. 2. 3. 4. 5. 6. 7. 8. 9.]\n"
     ]
    }
   ],
   "source": [
    "#38. Consider a generator function that generates 10 integers and use it to build an array\n",
    "def generate():\n",
    "    for i in range(10):\n",
    "        yield i\n",
    "print(generate())\n",
    "y=[]\n",
    "for value in generate():\n",
    "    y.append(value)\n",
    "print(y)\n",
    "\n",
    "#using np.fromiter() (function create a new one-dimensional array from an iterable object)\n",
    "#numpy.fromiter(iterable, dtype, count = -1)\n",
    "y=np.fromiter(generate(),float)\n",
    "print(y)"
   ]
  },
  {
   "cell_type": "code",
   "execution_count": 61,
   "metadata": {},
   "outputs": [
    {
     "name": "stdout",
     "output_type": "stream",
     "text": [
      "[0.09090909 0.18181818 0.27272727 0.36363636 0.45454545 0.54545455\n",
      " 0.63636364 0.72727273 0.81818182 0.90909091]\n"
     ]
    }
   ],
   "source": [
    "#39. Create a vector of size 10 with values ranging from 0 to 1, both excluded\n",
    "#using np.linspace\n",
    "#syntax numpy.linspace(start,stop,num = 50,endpoint = True,retstep = False,dtype = None)\n",
    "x=np.linspace(0,1,11,endpoint=False)[1:]\n",
    "print(x)"
   ]
  },
  {
   "cell_type": "code",
   "execution_count": 27,
   "metadata": {},
   "outputs": [
    {
     "name": "stdout",
     "output_type": "stream",
     "text": [
      "[2.13277063 2.32625496 2.42233295 1.58095968 4.48027912 3.00337251\n",
      " 4.89903781 0.06261659 1.65715062 1.91407338]\n",
      "[0.06261659 1.58095968 1.65715062 1.91407338 2.13277063 2.32625496\n",
      " 2.42233295 3.00337251 4.48027912 4.89903781]\n"
     ]
    }
   ],
   "source": [
    "#40. Create a random vector of size 10 and sort it \n",
    "x=np.random.uniform(0,5,10)\n",
    "print(x)\n",
    "y=np.sort(x)\n",
    "print(y)"
   ]
  },
  {
   "cell_type": "code",
   "execution_count": 28,
   "metadata": {},
   "outputs": [
    {
     "data": {
      "text/plain": [
       "45"
      ]
     },
     "execution_count": 28,
     "metadata": {},
     "output_type": "execute_result"
    }
   ],
   "source": [
    "#41. How to sum a small array faster than np.sum? \n",
    "#it can be done using np.add.reduce()\n",
    "x=np.arange(10)\n",
    "np.add.reduce(x)"
   ]
  },
  {
   "cell_type": "code",
   "execution_count": 44,
   "metadata": {},
   "outputs": [
    {
     "name": "stdout",
     "output_type": "stream",
     "text": [
      "[[8 8 9]\n",
      " [7 9 0]\n",
      " [7 8 9]]\n",
      "[[1 9 9]\n",
      " [7 8 4]\n",
      " [9 7 8]]\n",
      "False\n",
      "False\n"
     ]
    }
   ],
   "source": [
    "#42. Consider two random array A and B, check if they are equal\n",
    "x=np.random.randint(0,10,(3,3))\n",
    "y=np.random.randint(0,10,(3,3))\n",
    "print(x)\n",
    "print(y)\n",
    "# Assuming identical shape of the arrays and a tolerance for the comparison of values\n",
    "#Syntax : numpy.allclose(arr1, arr2, rtol, atol, equal_nan=False)\n",
    "#Parameters :rtol : [float] The relative tolerance parameter.\n",
    "#atol : [float] The absolute tolerance parameter.\n",
    "#equal_nan : [bool] Whether to compare NaN’s as equal. If True, NaN’s in arr1 will be \n",
    "#considered equal to NaN’s in arr2 in the output array.\n",
    "equal=np.allclose(x,y)\n",
    "print(equal)\n",
    "#numpy.array_equal(arr1, arr2) \n",
    "#True, if both arrays have same shape and value; otherwise False\n",
    "equal=np.array_equal(x,y)\n",
    "print(equal)"
   ]
  },
  {
   "cell_type": "code",
   "execution_count": 47,
   "metadata": {},
   "outputs": [
    {
     "name": "stdout",
     "output_type": "stream",
     "text": [
      "[[0. 0. 0.]\n",
      " [0. 0. 0.]\n",
      " [0. 0. 0.]]\n"
     ]
    },
    {
     "ename": "ValueError",
     "evalue": "assignment destination is read-only",
     "output_type": "error",
     "traceback": [
      "\u001b[0;31m---------------------------------------------------------------------------\u001b[0m",
      "\u001b[0;31mValueError\u001b[0m                                Traceback (most recent call last)",
      "\u001b[0;32m<ipython-input-47-ee403ba4ee89>\u001b[0m in \u001b[0;36m<module>\u001b[0;34m\u001b[0m\n\u001b[1;32m      3\u001b[0m \u001b[0mprint\u001b[0m\u001b[0;34m(\u001b[0m\u001b[0mx\u001b[0m\u001b[0;34m)\u001b[0m\u001b[0;34m\u001b[0m\u001b[0;34m\u001b[0m\u001b[0m\n\u001b[1;32m      4\u001b[0m \u001b[0mx\u001b[0m\u001b[0;34m.\u001b[0m\u001b[0mflags\u001b[0m\u001b[0;34m.\u001b[0m\u001b[0mwriteable\u001b[0m \u001b[0;34m=\u001b[0m \u001b[0;32mFalse\u001b[0m\u001b[0;34m\u001b[0m\u001b[0;34m\u001b[0m\u001b[0m\n\u001b[0;32m----> 5\u001b[0;31m \u001b[0mx\u001b[0m\u001b[0;34m[\u001b[0m\u001b[0;36m2\u001b[0m\u001b[0;34m]\u001b[0m\u001b[0;34m[\u001b[0m\u001b[0;36m2\u001b[0m\u001b[0;34m]\u001b[0m\u001b[0;34m=\u001b[0m\u001b[0;36m1\u001b[0m\u001b[0;34m\u001b[0m\u001b[0;34m\u001b[0m\u001b[0m\n\u001b[0m",
      "\u001b[0;31mValueError\u001b[0m: assignment destination is read-only"
     ]
    }
   ],
   "source": [
    "#43. Make an array immutable (read-only)\n",
    "x=np.zeros((3,3))\n",
    "print(x)\n",
    "x.flags.writeable = False\n",
    "x[2][2]=1\n"
   ]
  },
  {
   "cell_type": "code",
   "execution_count": 53,
   "metadata": {},
   "outputs": [
    {
     "name": "stdout",
     "output_type": "stream",
     "text": [
      "[[0.42728636 0.38491368]\n",
      " [0.10174865 0.23612397]\n",
      " [0.90119539 0.63594294]\n",
      " [0.67252113 0.40884693]\n",
      " [0.95902734 0.53281884]\n",
      " [0.08376274 0.6117958 ]\n",
      " [0.11917459 0.99391299]\n",
      " [0.84910503 0.7014887 ]\n",
      " [0.51772658 0.34847222]\n",
      " [0.10053528 0.57431073]]\n",
      "[0.57509319 0.25711343 1.1029853  0.78704541 1.09710043 0.61750327\n",
      " 1.00103228 1.10139264 0.62407829 0.58304387]\n",
      "[0.73327517 1.16392885 0.61451853 0.54623125 0.50711912 1.43472941\n",
      " 1.45146159 0.69048433 0.59243055 1.39749845]\n"
     ]
    },
    {
     "data": {
      "text/plain": [
       "array([[0.42728636, 0.10174865, 0.90119539, 0.67252113, 0.95902734,\n",
       "        0.08376274, 0.11917459, 0.84910503, 0.51772658, 0.10053528],\n",
       "       [0.38491368, 0.23612397, 0.63594294, 0.40884693, 0.53281884,\n",
       "        0.6117958 , 0.99391299, 0.7014887 , 0.34847222, 0.57431073]])"
      ]
     },
     "execution_count": 53,
     "metadata": {},
     "output_type": "execute_result"
    }
   ],
   "source": [
    "#44. Consider a random 10x2 matrix representing cartesian coordinates, convert them to polar coordinates\n",
    "Z=np.random.random((10,2))\n",
    "print(Z)\n",
    "#assigning each columns to x and y\n",
    "X,Y = Z[:,0], Z[:,1]\n",
    "R=np.sqrt(X**2+Y**2)\n",
    "T=np.arctan2(Y,X)\n",
    "print(R)\n",
    "print(T)\n",
    "np.vstack([X,Y])"
   ]
  },
  {
   "cell_type": "code",
   "execution_count": 58,
   "metadata": {},
   "outputs": [
    {
     "name": "stdout",
     "output_type": "stream",
     "text": [
      "[2.21588199 4.60959949 4.12578047 4.07260745 2.14726183 1.03784912\n",
      " 0.79592032 1.79101157 2.18253621 3.95180349]\n",
      "1\n",
      "[2.21588199 0.         4.12578047 4.07260745 2.14726183 1.03784912\n",
      " 0.79592032 1.79101157 2.18253621 3.95180349]\n"
     ]
    }
   ],
   "source": [
    "#45. Create random vector of size 10 and replace the maximum value by 0 \n",
    "#using argmax()\n",
    "#syntax : numpy.argmax(array, axis = None, out = None)\n",
    "x=np.random.uniform(0,5,10)\n",
    "indices=x.argmax()\n",
    "print(x)\n",
    "print(indices)\n",
    "x[indices]=0\n",
    "print(x)"
   ]
  },
  {
   "cell_type": "code",
   "execution_count": 63,
   "metadata": {},
   "outputs": [
    {
     "name": "stdout",
     "output_type": "stream",
     "text": [
      "[[(0., 0.) (0., 0.) (0., 0.) (0., 0.) (0., 0.)]\n",
      " [(0., 0.) (0., 0.) (0., 0.) (0., 0.) (0., 0.)]\n",
      " [(0., 0.) (0., 0.) (0., 0.) (0., 0.) (0., 0.)]\n",
      " [(0., 0.) (0., 0.) (0., 0.) (0., 0.) (0., 0.)]\n",
      " [(0., 0.) (0., 0.) (0., 0.) (0., 0.) (0., 0.)]]\n",
      "[[(0.  , 0.  ) (0.25, 0.  ) (0.5 , 0.  ) (0.75, 0.  ) (1.  , 0.  )]\n",
      " [(0.  , 0.25) (0.25, 0.25) (0.5 , 0.25) (0.75, 0.25) (1.  , 0.25)]\n",
      " [(0.  , 0.5 ) (0.25, 0.5 ) (0.5 , 0.5 ) (0.75, 0.5 ) (1.  , 0.5 )]\n",
      " [(0.  , 0.75) (0.25, 0.75) (0.5 , 0.75) (0.75, 0.75) (1.  , 0.75)]\n",
      " [(0.  , 1.  ) (0.25, 1.  ) (0.5 , 1.  ) (0.75, 1.  ) (1.  , 1.  )]]\n",
      "[[0.   0.25 0.5  0.75 1.  ]\n",
      " [0.   0.25 0.5  0.75 1.  ]\n",
      " [0.   0.25 0.5  0.75 1.  ]\n",
      " [0.   0.25 0.5  0.75 1.  ]\n",
      " [0.   0.25 0.5  0.75 1.  ]]\n",
      "[[0.   0.   0.   0.   0.  ]\n",
      " [0.25 0.25 0.25 0.25 0.25]\n",
      " [0.5  0.5  0.5  0.5  0.5 ]\n",
      " [0.75 0.75 0.75 0.75 0.75]\n",
      " [1.   1.   1.   1.   1.  ]]\n",
      "x_1 = \n",
      "[[0.   0.25 0.5  0.75 1.  ]\n",
      " [0.   0.25 0.5  0.75 1.  ]\n",
      " [0.   0.25 0.5  0.75 1.  ]\n",
      " [0.   0.25 0.5  0.75 1.  ]\n",
      " [0.   0.25 0.5  0.75 1.  ]]\n",
      "y_1 = \n",
      "[[0.   0.   0.   0.   0.  ]\n",
      " [0.25 0.25 0.25 0.25 0.25]\n",
      " [0.5  0.5  0.5  0.5  0.5 ]\n",
      " [0.75 0.75 0.75 0.75 0.75]\n",
      " [1.   1.   1.   1.   1.  ]]\n"
     ]
    }
   ],
   "source": [
    "#46. Create a structured array with x and y coordinates covering the [0,1]x[0,1] area \n",
    "Z = np.zeros((5,5), [('x',float),('y',float)])\n",
    "print(Z)\n",
    "#syntax numpy.linspace(start,stop,num = 50,endpoint = True,retstep = False,dtype = None)\n",
    "Z['x'], Z['y'] = np.meshgrid(np.linspace(0,1,5),\n",
    "                             np.linspace(0,1,5))\n",
    "print(Z)\n",
    "print(Z['x'])\n",
    "print(Z['y'])\n",
    "#another way\n",
    "x = np.linspace(0, 1, 5)\n",
    "  \n",
    "# numpy.linspace creates an array of\n",
    "# 3 linearly placed elements between\n",
    "# 0 and 1, both inclusive \n",
    "y = np.linspace(0, 1, 5)\n",
    "  \n",
    "# The meshgrid function returns\n",
    "# two 2-dimensional arrays \n",
    "x_1, y_1 = np.meshgrid(x, y)\n",
    "  \n",
    "print(\"x_1 = \")\n",
    "print(x_1)\n",
    "print(\"y_1 = \")\n",
    "print(y_1)"
   ]
  },
  {
   "cell_type": "code",
   "execution_count": 67,
   "metadata": {},
   "outputs": [
    {
     "name": "stdout",
     "output_type": "stream",
     "text": [
      "[0.   0.25 0.5  0.75 1.  ]\n",
      "[[-0.5 -1.5 -2.5 -3.5 -4.5 -5.5 -6.5 -7.5 -8.5 -9.5]\n",
      " [ 0.5 -0.5 -1.5 -2.5 -3.5 -4.5 -5.5 -6.5 -7.5 -8.5]\n",
      " [ 1.5  0.5 -0.5 -1.5 -2.5 -3.5 -4.5 -5.5 -6.5 -7.5]\n",
      " [ 2.5  1.5  0.5 -0.5 -1.5 -2.5 -3.5 -4.5 -5.5 -6.5]\n",
      " [ 3.5  2.5  1.5  0.5 -0.5 -1.5 -2.5 -3.5 -4.5 -5.5]\n",
      " [ 4.5  3.5  2.5  1.5  0.5 -0.5 -1.5 -2.5 -3.5 -4.5]\n",
      " [ 5.5  4.5  3.5  2.5  1.5  0.5 -0.5 -1.5 -2.5 -3.5]\n",
      " [ 6.5  5.5  4.5  3.5  2.5  1.5  0.5 -0.5 -1.5 -2.5]\n",
      " [ 7.5  6.5  5.5  4.5  3.5  2.5  1.5  0.5 -0.5 -1.5]\n",
      " [ 8.5  7.5  6.5  5.5  4.5  3.5  2.5  1.5  0.5 -0.5]]\n",
      "[[-2.         -0.66666667 -0.4        -0.28571429 -0.22222222 -0.18181818\n",
      "  -0.15384615 -0.13333333 -0.11764706 -0.10526316]\n",
      " [ 2.         -2.         -0.66666667 -0.4        -0.28571429 -0.22222222\n",
      "  -0.18181818 -0.15384615 -0.13333333 -0.11764706]\n",
      " [ 0.66666667  2.         -2.         -0.66666667 -0.4        -0.28571429\n",
      "  -0.22222222 -0.18181818 -0.15384615 -0.13333333]\n",
      " [ 0.4         0.66666667  2.         -2.         -0.66666667 -0.4\n",
      "  -0.28571429 -0.22222222 -0.18181818 -0.15384615]\n",
      " [ 0.28571429  0.4         0.66666667  2.         -2.         -0.66666667\n",
      "  -0.4        -0.28571429 -0.22222222 -0.18181818]\n",
      " [ 0.22222222  0.28571429  0.4         0.66666667  2.         -2.\n",
      "  -0.66666667 -0.4        -0.28571429 -0.22222222]\n",
      " [ 0.18181818  0.22222222  0.28571429  0.4         0.66666667  2.\n",
      "  -2.         -0.66666667 -0.4        -0.28571429]\n",
      " [ 0.15384615  0.18181818  0.22222222  0.28571429  0.4         0.66666667\n",
      "   2.         -2.         -0.66666667 -0.4       ]\n",
      " [ 0.13333333  0.15384615  0.18181818  0.22222222  0.28571429  0.4\n",
      "   0.66666667  2.         -2.         -0.66666667]\n",
      " [ 0.11764706  0.13333333  0.15384615  0.18181818  0.22222222  0.28571429\n",
      "   0.4         0.66666667  2.         -2.        ]]\n"
     ]
    }
   ],
   "source": [
    "#47. Given two arrays, X and Y, construct the Cauchy matrix C (Cij =1/(xi - yj)) \n",
    "X = np.arange(10)\n",
    "print(x)\n",
    "Y = X + 0.5\n",
    "xi_yj=np.subtract.outer(X, Y)\n",
    "print(xi_yj)\n",
    "C = 1.0 / np.subtract.outer(X, Y)\n",
    "\n",
    "print(C)"
   ]
  },
  {
   "cell_type": "code",
   "execution_count": 73,
   "metadata": {},
   "outputs": [
    {
     "name": "stdout",
     "output_type": "stream",
     "text": [
      "for int8, int32 and int64 are respectively \n",
      "-128\n",
      "127\n",
      "-2147483648\n",
      "2147483647\n",
      "-9223372036854775808\n",
      "9223372036854775807\n",
      "for float32 and float64 are respectively \n",
      "-3.4028235e+38\n",
      "3.4028235e+38\n",
      "1.1920929e-07\n",
      "-1.7976931348623157e+308\n",
      "1.7976931348623157e+308\n",
      "2.220446049250313e-16\n"
     ]
    }
   ],
   "source": [
    "#48. Print the minimum and maximum representable value for each numpy scalar type\n",
    "#numpy scalar types are int(8,32 and 64) and float(32 and 64)\n",
    "#for int\n",
    "print(\"for int8, int32 and int64 are respectively \")\n",
    "for i in [np.int8, np.int32, np.int64]:\n",
    "   print(np.iinfo(i).min)\n",
    "   print(np.iinfo(i).max)\n",
    "#for float\n",
    "print(\"for float32 and float64 are respectively \")\n",
    "for i in [np.float32, np.float64]:\n",
    "   print(np.finfo(i).min)\n",
    "   print(np.finfo(i).max)\n",
    "   print(np.finfo(i).eps)"
   ]
  },
  {
   "cell_type": "code",
   "execution_count": 6,
   "metadata": {},
   "outputs": [
    {
     "name": "stdout",
     "output_type": "stream",
     "text": [
      "[[ 0.15389315  6.0926917  11.9598979 ]\n",
      " [11.30912056  5.34344187 13.34813505]\n",
      " [11.03580915  0.49928915 11.95614063]]\n",
      "[[10.10795691  9.60964262 13.50398454  1.28553447  1.0702664   2.99165692\n",
      "   7.06665688 12.00782354  8.45828172 10.59433729  5.94036561  5.10018169\n",
      "  13.66148759  9.21936876  8.58627367]\n",
      " [ 1.59946725 11.49537708 13.26020098 12.46383394  8.30443363  7.24538864\n",
      "   7.16773354 11.55593948  2.953946    4.22360645  9.97094373 13.10520985\n",
      "   0.60980432  1.28760572 10.35379115]\n",
      " [11.39045918 13.27771173  1.40139225 14.26077678  2.99158151  9.93037941\n",
      "   9.84446123  3.24490981 13.74362895 11.31999847  4.48034185  8.7166493\n",
      "   4.18442671  9.05730074  2.678321  ]\n",
      " [ 2.70842464  5.22396305  2.18918214 14.78242936  0.03744078  2.51965569\n",
      "   1.13200438 14.70590505 14.90135291  9.31057291  5.6628029  14.22374462\n",
      "  11.87023208  9.34436947 11.58945249]\n",
      " [ 9.48807276  9.03681752 10.99389443  5.21928456  7.50744465  5.32724915\n",
      "   4.92688071  4.04966651  4.52860664  9.60446267  2.39191569  2.2845007\n",
      "  13.81301501 11.38248726 11.55483067]\n",
      " [11.87658669  1.68339648  8.06075067  2.69911631 11.4642024   3.75680843\n",
      "  11.07710759 13.18444735  8.58098066 10.31507706  3.23743417  3.27637796\n",
      "   0.34397666  0.37132462  5.16982336]\n",
      " [ 7.03693788  4.59927689 10.44997582  2.82511045  5.20412536  8.39347424\n",
      "  14.94431594  1.82554631  7.64136889 14.73075878  9.59696486  7.00248622\n",
      "   9.70801732  7.20618024  0.24405306]\n",
      " [ 1.92027912  4.59282471 13.0906727  14.28447333  4.27596868 13.54456518\n",
      "  13.62915942  9.80286335  8.08087851  9.23147037 12.43798011  6.12203589\n",
      "  14.74171707  6.65324622 10.02077576]\n",
      " [ 0.46004473  8.93472829  2.87890245  9.66835196  3.09597088  8.55819157\n",
      "   3.82761513  4.9438012  10.32299287 14.67520907  0.70041692 12.44433298\n",
      "  14.62739308  8.5020246  11.54388907]\n",
      " [ 4.50595668  8.78825477 13.37407589  5.018481   10.59956439 12.63215037\n",
      "   0.52322909  4.73873993 13.54383984 11.35171648  4.27718934  3.71216494\n",
      "   8.13132499 11.39327679  7.61449914]\n",
      " [ 8.33117143 14.43589951  2.15796105  7.15791789 10.39402156  8.28440535\n",
      "   8.10216246  9.01274692  9.30108001  5.26911058  2.34987973  5.37661099\n",
      "   7.44417698 14.09818425  4.62152207]\n",
      " [13.46540776  6.02779654  8.3058354   7.06439828  8.5834226  14.2211442\n",
      "   6.8994654   6.00350436  1.40086153  5.20063604 12.70299399  2.13610731\n",
      "   5.37421079 12.51602275  1.15293735]\n",
      " [ 9.46710835 14.50623006  8.34417964  2.31866042  7.03918313  3.19173912\n",
      "  14.64089421 10.04968648  2.40792901  9.81894205  9.88821684  5.6196166\n",
      "  13.74648613  0.91520267  7.151133  ]\n",
      " [ 1.70241052  2.7098488  11.13931071 12.55393919  2.45621551  3.31036317\n",
      "   7.95589577  9.9402865  12.79693965  1.67725166  0.86151199  2.60986056\n",
      "   5.74520265  4.85046368 10.8920291 ]\n",
      " [ 6.69283286 11.41878985  8.04111189 10.69080792  1.28304923  2.3681151\n",
      "   6.34803518  5.13283294 12.47657346  8.68606439 10.45899289  5.86657861\n",
      "   0.23233047  0.41454051  3.40391672]]\n"
     ]
    }
   ],
   "source": [
    "#49. How to print all the values of an array?\n",
    "import numpy as np\n",
    "np.set_printoptions(threshold=np.inf)\n",
    "#it implies that threshold is infinity\n",
    "x=np.random.uniform(0,15,(3,3))\n",
    "print(x)\n",
    "#another way\n",
    "import sys\n",
    "np.set_printoptions(threshold=sys.maxsize)\n",
    "x=np.random.uniform(0,15,(15,15))\n",
    "print(x)"
   ]
  },
  {
   "cell_type": "code",
   "execution_count": 52,
   "metadata": {},
   "outputs": [
    {
     "name": "stdout",
     "output_type": "stream",
     "text": [
      "[19.4475719  81.15097265 82.95851956 11.73097175 34.20155061 96.06156567\n",
      " 84.85016267 33.35473411 26.25813814  5.84825073 88.14147895  5.82453678\n",
      " 15.86836547 23.10793746 49.15510846 26.71205354  0.64210238 48.030689\n",
      " 46.29828169 99.95491514 96.87495118 33.02532999 19.48251227 21.75304876\n",
      " 58.10306267 62.59279811 77.75571752 35.6401446  95.5129866  29.57524063\n",
      " 12.01455405 64.12873924 74.18571086 68.34998535 82.60231143 41.30047408\n",
      " 29.96495954 42.83866361  9.16252495 54.23882446 24.02810168 48.74153321\n",
      " 38.95885337 11.89959531 34.84076583 40.3164064   9.16514712  2.11029271\n",
      " 32.55250901 10.00554366 98.9696143   9.50515164 69.53753002 28.80854124\n",
      "  8.06841376 38.74555887 88.49373391  1.37608767  1.88230334 11.28663946\n",
      " 42.31273451 72.76988837 87.30171542 66.17959097 71.72664574 54.47031693\n",
      " 56.15216893 81.42312609 89.4795117  66.39380586 45.67985997 62.23859582\n",
      " 72.0773598  17.72694351 20.7997185   6.81880794 69.15283198 27.07363136\n",
      " 59.88428588 91.86419585 96.51843716 50.4842695  51.65776909 43.71785579\n",
      " 65.33052851 79.34704149 24.5353762   6.67964563 32.14602221 38.38268215\n",
      " 24.36017073 20.0727071  85.44605578 43.87451708 59.91835171 33.43692627\n",
      " 86.85941841 51.57739047 74.78031943 59.68978086 41.20019511 33.68388847\n",
      "  6.70257279 32.68754322 71.02822375 95.08980841 98.556109   82.57285482\n",
      " 81.07422282 12.71743422 48.5485805  16.18738537 41.36628413 13.23936708\n",
      " 41.4045089  80.21209499 32.47594164 96.74507833 90.57861619 40.33786496\n",
      " 23.6322583   9.28485297 23.799128   24.61362425 57.66489111 91.45298683\n",
      " 61.5897723  63.86962283 99.30830947 26.07180506  3.79523854 88.44955569\n",
      " 52.61229944 17.70236375 30.60722066 53.09612882 21.54109228 48.81309655\n",
      " 54.64149007 21.79650416 37.60769486 81.91297181 99.44745668 39.88224375\n",
      " 59.92321695 97.0814517  42.19409791 63.8985043  89.71055521 37.91179846]\n",
      "41.96994338675236\n",
      "146\n",
      "42.194097910474504\n",
      "42.194097910474504\n"
     ]
    }
   ],
   "source": [
    "#50. How to find the closest value (to a given scalar) in a vector? \n",
    "#numpy.argmin(array, axis = None, out = None)\n",
    "\n",
    "V=np.random.uniform(0,100,150)\n",
    "print(V)\n",
    "#defining scalar\n",
    "S= np.random.uniform(0,100)\n",
    "print(S)\n",
    "index = (np.abs(V-S)).argmin()\n",
    "print(index)\n",
    "closest_value=V[index]\n",
    "print(closest_value)\n",
    "# Second method\n",
    "close_value=V.flat[np.abs(V-S).argmin()]\n",
    "print(close_value)"
   ]
  },
  {
   "cell_type": "code",
   "execution_count": 25,
   "metadata": {},
   "outputs": [
    {
     "name": "stdout",
     "output_type": "stream",
     "text": [
      "[((0., 0.), (0., 0., 0.)) ((0., 0.), (0., 0., 0.))\n",
      " ((0., 0.), (0., 0., 0.)) ((0., 0.), (0., 0., 0.))\n",
      " ((0., 0.), (0., 0., 0.)) ((0., 0.), (0., 0., 0.))\n",
      " ((0., 0.), (0., 0., 0.)) ((0., 0.), (0., 0., 0.))\n",
      " ((0., 0.), (0., 0., 0.)) ((0., 0.), (0., 0., 0.))\n",
      " ((0., 0.), (0., 0., 0.)) ((0., 0.), (0., 0., 0.))\n",
      " ((0., 0.), (0., 0., 0.)) ((0., 0.), (0., 0., 0.))\n",
      " ((0., 0.), (0., 0., 0.)) ((0., 0.), (0., 0., 0.))\n",
      " ((0., 0.), (0., 0., 0.)) ((0., 0.), (0., 0., 0.))\n",
      " ((0., 0.), (0., 0., 0.)) ((0., 0.), (0., 0., 0.))]\n"
     ]
    },
    {
     "name": "stderr",
     "output_type": "stream",
     "text": [
      "<ipython-input-25-161545694afb>:2: FutureWarning: Passing (type, 1) or '1type' as a synonym of type is deprecated; in a future version of numpy, it will be understood as (type, (1,)) / '(1,)type'.\n",
      "  x = np.zeros(20, [ ('position', [ ('x', float, 1),\n"
     ]
    }
   ],
   "source": [
    "#51. Create a structured array representing a position (x,y) and a color (r,g,b)\n",
    "x = np.zeros(20, [ ('position', [ ('x', float, 1),\n",
    "                                  ('y', float, 1)]),\n",
    "                   ('color',    [ ('r', float, 1),\n",
    "                                  ('g', float, 1),\n",
    "                                  ('b', float, 1)])])\n",
    "print(x)"
   ]
  },
  {
   "cell_type": "code",
   "execution_count": 28,
   "metadata": {},
   "outputs": [
    {
     "name": "stdout",
     "output_type": "stream",
     "text": [
      "[[0.         0.89440716 0.52076591 1.16588001 0.64741036 0.91600936\n",
      "  0.81137866 0.55561239 0.53393176 0.80496007]\n",
      " [0.89440716 0.         0.37657809 0.37675577 0.33634817 0.05637259\n",
      "  0.83590293 0.39501801 0.44345639 0.09814419]\n",
      " [0.52076591 0.37657809 0.         0.66144482 0.18482874 0.4047464\n",
      "  0.66243884 0.19465291 0.23296825 0.28452489]\n",
      " [1.16588001 0.37675577 0.66144482 0.         0.51991725 0.40854892\n",
      "  0.80675161 0.74871175 0.80012476 0.41361611]\n",
      " [0.64741036 0.33634817 0.18482874 0.51991725 0.         0.38422871\n",
      "  0.5355938  0.3607941  0.40670016 0.24113551]\n",
      " [0.91600936 0.05637259 0.4047464  0.40854892 0.38422871 0.\n",
      "  0.89085351 0.39631446 0.4417677  0.14309342]\n",
      " [0.81137866 0.83590293 0.66243884 0.80675161 0.5355938  0.89085351\n",
      "  0.         0.85664739 0.89036177 0.75531082]\n",
      " [0.55561239 0.39501801 0.19465291 0.74871175 0.3607941  0.39631446\n",
      "  0.85664739 0.         0.05200983 0.33528295]\n",
      " [0.53393176 0.44345639 0.23296825 0.80012476 0.40670016 0.4417677\n",
      "  0.89036177 0.05200983 0.         0.38655133]\n",
      " [0.80496007 0.09814419 0.28452489 0.41361611 0.24113551 0.14309342\n",
      "  0.75531082 0.33528295 0.38655133 0.        ]]\n"
     ]
    }
   ],
   "source": [
    "#52. Consider a random vector with shape (100,2) representing coordinates, find point by point distances\n",
    "#using scipy\n",
    "import scipy\n",
    "import scipy.spatial\n",
    "\n",
    "x=np.random.random((10,2))\n",
    "Distance=scipy.spatial.distance.cdist(Z,Z)\n",
    "print(Distance)"
   ]
  },
  {
   "cell_type": "code",
   "execution_count": 33,
   "metadata": {},
   "outputs": [
    {
     "name": "stdout",
     "output_type": "stream",
     "text": [
      "float64\n",
      "float32\n",
      "int32\n"
     ]
    }
   ],
   "source": [
    "#53. How to convert a float (32 bits) array into an integer (32 bits) in place?\n",
    "x=np.random.random((10,2))\n",
    "print(x.dtype)\n",
    "y=x.astype(np.float32)\n",
    "print(y.dtype)\n",
    "z=y.astype(np.int32)\n",
    "print(z.dtype)"
   ]
  },
  {
   "cell_type": "code",
   "execution_count": 38,
   "metadata": {},
   "outputs": [
    {
     "name": "stdout",
     "output_type": "stream",
     "text": [
      "[[ 1  2  3  4  5]\n",
      " [ 6 -1 -1  7  8]\n",
      " [-1 -1  9 10 11]]\n"
     ]
    }
   ],
   "source": [
    "#How to read the following file?\n",
    "from io import StringIO\n",
    "#The StringIO module is an in-memory file-like object. This object can be\n",
    "#used as input or output to the most function that would expect a standard\n",
    "#file object as input or output to the most function that would expect a standard file object\n",
    "file= StringIO('''1, 2, 3, 4, 5\n",
    "                6,  ,  , 7, 8\n",
    "                ,  , 9,10,11''')\n",
    "x = np.genfromtxt(file, delimiter=\",\", dtype=np.int)\n",
    "print(x)"
   ]
  },
  {
   "cell_type": "code",
   "execution_count": 41,
   "metadata": {},
   "outputs": [
    {
     "name": "stdout",
     "output_type": "stream",
     "text": [
      "(0, 0) 4.277778365071367\n",
      "(0, 1) 4.605341798158876\n",
      "(0, 2) 2.94403988429764\n",
      "(1, 0) 7.5371497590824434\n",
      "(1, 1) 0.13616438212206927\n",
      "(1, 2) 1.5808073420595459\n",
      "(2, 0) 9.441336034060539\n",
      "(2, 1) 7.170658760660606\n",
      "(2, 2) 1.3207340492223263\n",
      "(3, 0) 4.545936282410251\n",
      "(3, 1) 2.6599832309295834\n",
      "(3, 2) 7.682802806336403\n",
      "(4, 0) 8.953377814204869\n",
      "(4, 1) 0.48907617171222273\n",
      "(4, 2) 6.355247608529497\n",
      "<numpy.ndindex object at 0x7ff8cc355370>\n",
      "(0, 0) 4.277778365071367\n",
      "(0, 1) 4.605341798158876\n",
      "(0, 2) 2.94403988429764\n",
      "(1, 0) 7.5371497590824434\n",
      "(1, 1) 0.13616438212206927\n",
      "(1, 2) 1.5808073420595459\n",
      "(2, 0) 9.441336034060539\n",
      "(2, 1) 7.170658760660606\n",
      "(2, 2) 1.3207340492223263\n",
      "(3, 0) 4.545936282410251\n",
      "(3, 1) 2.6599832309295834\n",
      "(3, 2) 7.682802806336403\n",
      "(4, 0) 8.953377814204869\n",
      "(4, 1) 0.48907617171222273\n",
      "(4, 2) 6.355247608529497\n"
     ]
    }
   ],
   "source": [
    "#What is the equivalent of enumerate for numpy arrays?\n",
    "x = np.random.uniform(0,10,15).reshape(5,3)\n",
    "for index, value in np.ndenumerate(x):\n",
    "    print(index, value)\n",
    "#np.ndindex(x.shape) will return index looking into shape of the array\n",
    "print(np.ndindex(x.shape))\n",
    "for index in np.ndindex(x.shape):\n",
    "    print(index, x[index])"
   ]
  },
  {
   "cell_type": "code",
   "execution_count": 42,
   "metadata": {},
   "outputs": [
    {
     "name": "stdout",
     "output_type": "stream",
     "text": [
      "[[1.23409804e-04 3.34303864e-04 7.99528892e-04 1.68821580e-03\n",
      "  3.14718878e-03 5.17986762e-03 7.52688985e-03 9.65636101e-03\n",
      "  1.09373588e-02 1.09373588e-02 9.65636101e-03 7.52688985e-03\n",
      "  5.17986762e-03 3.14718878e-03 1.68821580e-03 7.99528892e-04\n",
      "  3.34303864e-04 1.23409804e-04]\n",
      " [3.34303864e-04 9.05593149e-04 2.16583763e-03 4.57319473e-03\n",
      "  8.52539534e-03 1.40317033e-02 2.03895337e-02 2.61580416e-02\n",
      "  2.96281267e-02 2.96281267e-02 2.61580416e-02 2.03895337e-02\n",
      "  1.40317033e-02 8.52539534e-03 4.57319473e-03 2.16583763e-03\n",
      "  9.05593149e-04 3.34303864e-04]\n",
      " [7.99528892e-04 2.16583763e-03 5.17986762e-03 1.09373588e-02\n",
      "  2.03895337e-02 3.35585479e-02 4.87640828e-02 6.25601805e-02\n",
      "  7.08593166e-02 7.08593166e-02 6.25601805e-02 4.87640828e-02\n",
      "  3.35585479e-02 2.03895337e-02 1.09373588e-02 5.17986762e-03\n",
      "  2.16583763e-03 7.99528892e-04]\n",
      " [1.68821580e-03 4.57319473e-03 1.09373588e-02 2.30943775e-02\n",
      "  4.30527694e-02 7.08593166e-02 1.02966004e-01 1.32096647e-01\n",
      "  1.49620382e-01 1.49620382e-01 1.32096647e-01 1.02966004e-01\n",
      "  7.08593166e-02 4.30527694e-02 2.30943775e-02 1.09373588e-02\n",
      "  4.57319473e-03 1.68821580e-03]\n",
      " [3.14718878e-03 8.52539534e-03 2.03895337e-02 4.30527694e-02\n",
      "  8.02594032e-02 1.32096647e-01 1.91950255e-01 2.46255889e-01\n",
      "  2.78923812e-01 2.78923812e-01 2.46255889e-01 1.91950255e-01\n",
      "  1.32096647e-01 8.02594032e-02 4.30527694e-02 2.03895337e-02\n",
      "  8.52539534e-03 3.14718878e-03]\n",
      " [5.17986762e-03 1.40317033e-02 3.35585479e-02 7.08593166e-02\n",
      "  1.32096647e-01 2.17414076e-01 3.15925411e-01 4.05305495e-01\n",
      "  4.59072691e-01 4.59072691e-01 4.05305495e-01 3.15925411e-01\n",
      "  2.17414076e-01 1.32096647e-01 7.08593166e-02 3.35585479e-02\n",
      "  1.40317033e-02 5.17986762e-03]\n",
      " [7.52688985e-03 2.03895337e-02 4.87640828e-02 1.02966004e-01\n",
      "  1.91950255e-01 3.15925411e-01 4.59072691e-01 5.88951310e-01\n",
      "  6.67080673e-01 6.67080673e-01 5.88951310e-01 4.59072691e-01\n",
      "  3.15925411e-01 1.91950255e-01 1.02966004e-01 4.87640828e-02\n",
      "  2.03895337e-02 7.52688985e-03]\n",
      " [9.65636101e-03 2.61580416e-02 6.25601805e-02 1.32096647e-01\n",
      "  2.46255889e-01 4.05305495e-01 5.88951310e-01 7.55574557e-01\n",
      "  8.55807901e-01 8.55807901e-01 7.55574557e-01 5.88951310e-01\n",
      "  4.05305495e-01 2.46255889e-01 1.32096647e-01 6.25601805e-02\n",
      "  2.61580416e-02 9.65636101e-03]\n",
      " [1.09373588e-02 2.96281267e-02 7.08593166e-02 1.49620382e-01\n",
      "  2.78923812e-01 4.59072691e-01 6.67080673e-01 8.55807901e-01\n",
      "  9.69338045e-01 9.69338045e-01 8.55807901e-01 6.67080673e-01\n",
      "  4.59072691e-01 2.78923812e-01 1.49620382e-01 7.08593166e-02\n",
      "  2.96281267e-02 1.09373588e-02]\n",
      " [1.09373588e-02 2.96281267e-02 7.08593166e-02 1.49620382e-01\n",
      "  2.78923812e-01 4.59072691e-01 6.67080673e-01 8.55807901e-01\n",
      "  9.69338045e-01 9.69338045e-01 8.55807901e-01 6.67080673e-01\n",
      "  4.59072691e-01 2.78923812e-01 1.49620382e-01 7.08593166e-02\n",
      "  2.96281267e-02 1.09373588e-02]\n",
      " [9.65636101e-03 2.61580416e-02 6.25601805e-02 1.32096647e-01\n",
      "  2.46255889e-01 4.05305495e-01 5.88951310e-01 7.55574557e-01\n",
      "  8.55807901e-01 8.55807901e-01 7.55574557e-01 5.88951310e-01\n",
      "  4.05305495e-01 2.46255889e-01 1.32096647e-01 6.25601805e-02\n",
      "  2.61580416e-02 9.65636101e-03]\n",
      " [7.52688985e-03 2.03895337e-02 4.87640828e-02 1.02966004e-01\n",
      "  1.91950255e-01 3.15925411e-01 4.59072691e-01 5.88951310e-01\n",
      "  6.67080673e-01 6.67080673e-01 5.88951310e-01 4.59072691e-01\n",
      "  3.15925411e-01 1.91950255e-01 1.02966004e-01 4.87640828e-02\n",
      "  2.03895337e-02 7.52688985e-03]\n",
      " [5.17986762e-03 1.40317033e-02 3.35585479e-02 7.08593166e-02\n",
      "  1.32096647e-01 2.17414076e-01 3.15925411e-01 4.05305495e-01\n",
      "  4.59072691e-01 4.59072691e-01 4.05305495e-01 3.15925411e-01\n",
      "  2.17414076e-01 1.32096647e-01 7.08593166e-02 3.35585479e-02\n",
      "  1.40317033e-02 5.17986762e-03]\n",
      " [3.14718878e-03 8.52539534e-03 2.03895337e-02 4.30527694e-02\n",
      "  8.02594032e-02 1.32096647e-01 1.91950255e-01 2.46255889e-01\n",
      "  2.78923812e-01 2.78923812e-01 2.46255889e-01 1.91950255e-01\n",
      "  1.32096647e-01 8.02594032e-02 4.30527694e-02 2.03895337e-02\n",
      "  8.52539534e-03 3.14718878e-03]\n",
      " [1.68821580e-03 4.57319473e-03 1.09373588e-02 2.30943775e-02\n",
      "  4.30527694e-02 7.08593166e-02 1.02966004e-01 1.32096647e-01\n",
      "  1.49620382e-01 1.49620382e-01 1.32096647e-01 1.02966004e-01\n",
      "  7.08593166e-02 4.30527694e-02 2.30943775e-02 1.09373588e-02\n",
      "  4.57319473e-03 1.68821580e-03]\n",
      " [7.99528892e-04 2.16583763e-03 5.17986762e-03 1.09373588e-02\n",
      "  2.03895337e-02 3.35585479e-02 4.87640828e-02 6.25601805e-02\n",
      "  7.08593166e-02 7.08593166e-02 6.25601805e-02 4.87640828e-02\n",
      "  3.35585479e-02 2.03895337e-02 1.09373588e-02 5.17986762e-03\n",
      "  2.16583763e-03 7.99528892e-04]\n",
      " [3.34303864e-04 9.05593149e-04 2.16583763e-03 4.57319473e-03\n",
      "  8.52539534e-03 1.40317033e-02 2.03895337e-02 2.61580416e-02\n",
      "  2.96281267e-02 2.96281267e-02 2.61580416e-02 2.03895337e-02\n",
      "  1.40317033e-02 8.52539534e-03 4.57319473e-03 2.16583763e-03\n",
      "  9.05593149e-04 3.34303864e-04]\n",
      " [1.23409804e-04 3.34303864e-04 7.99528892e-04 1.68821580e-03\n",
      "  3.14718878e-03 5.17986762e-03 7.52688985e-03 9.65636101e-03\n",
      "  1.09373588e-02 1.09373588e-02 9.65636101e-03 7.52688985e-03\n",
      "  5.17986762e-03 3.14718878e-03 1.68821580e-03 7.99528892e-04\n",
      "  3.34303864e-04 1.23409804e-04]]\n"
     ]
    }
   ],
   "source": [
    "#56. Generate a generic 2D Gaussian-like array \n",
    "x=np.linspace(-3,3,18)\n",
    "y=np.linspace(-3,3,18)\n",
    "X, Y = np.meshgrid(x,y)\n",
    "D=np.sqrt(X*X+Y*Y)\n",
    "sigma,mu = 1.0, 0.0\n",
    "G=np.exp(-( (D-mu)**2 / ( 2.0 * sigma**2 ) ) )\n",
    "print(G)"
   ]
  },
  {
   "cell_type": "code",
   "execution_count": 44,
   "metadata": {
    "collapsed": true
   },
   "outputs": [
    {
     "name": "stdout",
     "output_type": "stream",
     "text": [
      "[[0. 0. 0. 0. 0. 0. 0. 0. 0. 0. 0. 0. 0. 0. 0.]\n",
      " [0. 0. 0. 0. 0. 0. 0. 0. 1. 0. 1. 0. 0. 0. 0.]\n",
      " [0. 0. 0. 0. 0. 0. 0. 0. 0. 0. 0. 0. 0. 0. 0.]\n",
      " [0. 0. 0. 0. 0. 0. 0. 0. 1. 0. 0. 0. 0. 0. 0.]\n",
      " [1. 0. 0. 1. 0. 0. 0. 0. 0. 0. 0. 0. 0. 0. 0.]\n",
      " [0. 0. 0. 0. 0. 0. 0. 0. 0. 0. 0. 1. 0. 0. 0.]\n",
      " [1. 0. 0. 0. 0. 0. 0. 0. 1. 0. 0. 0. 0. 0. 0.]\n",
      " [0. 0. 0. 0. 0. 0. 0. 0. 0. 0. 0. 0. 0. 0. 1.]\n",
      " [0. 0. 0. 0. 0. 0. 0. 1. 0. 0. 0. 1. 0. 0. 0.]\n",
      " [0. 0. 0. 0. 0. 0. 0. 0. 0. 0. 0. 1. 0. 0. 0.]]\n"
     ]
    }
   ],
   "source": [
    "#57. How to randomly place p elements in a 2D array?\n",
    "#using numpy.random.choice()\n",
    "#Syntax: numpy.random.choice( a , size = None, replace = True, p = None)\n",
    "m = 10\n",
    "n=15\n",
    "p = 12\n",
    "x = np.zeros((m,n))\n",
    "#Syntax: numpy.put(array, indices, p_array, mode = 'raise')\n",
    "np.put(x, np.random.choice(range(m*n), p, replace=False),1)\n",
    "print(Z)"
   ]
  },
  {
   "cell_type": "code",
   "execution_count": 46,
   "metadata": {},
   "outputs": [
    {
     "name": "stdout",
     "output_type": "stream",
     "text": [
      "[[-6.          6.          0.        ]\n",
      " [-0.66666667 -3.66666667  4.33333333]\n",
      " [-1.66666667 -3.66666667  5.33333333]]\n"
     ]
    }
   ],
   "source": [
    "#58. Subtract the mean of each row of a matrix \n",
    "X = np.random.randint(0,15,(3,3))\n",
    "# Recent versions of numpy\n",
    "Y = X - X.mean(axis=1, keepdims=True)\n",
    "#keepdims = true implies array has restored it's collapsed dimension\n",
    "print(Y)"
   ]
  },
  {
   "cell_type": "code",
   "execution_count": 49,
   "metadata": {},
   "outputs": [
    {
     "name": "stdout",
     "output_type": "stream",
     "text": [
      "[[ 2  2  3 12  5  3]\n",
      " [10  9  6  8 12 13]\n",
      " [10  4 10 10 11  4]\n",
      " [ 4  9  8  2  7  2]\n",
      " [10  4  6 11  5  2]\n",
      " [ 0  7  6  7  1 10]]\n",
      "[[ 4  9  8  2  7  2]\n",
      " [ 0  7  6  7  1 10]\n",
      " [ 2  2  3 12  5  3]\n",
      " [10  4  6 11  5  2]\n",
      " [10  4 10 10 11  4]\n",
      " [10  9  6  8 12 13]]\n"
     ]
    }
   ],
   "source": [
    "#59. How to sort an array by the nth column?\n",
    "x = np.random.randint(0,15,(6,6))\n",
    "print(x)\n",
    "#sorting about the third column\n",
    "y=x[x[:,3].argsort()]\n",
    "print(y)"
   ]
  },
  {
   "cell_type": "code",
   "execution_count": 51,
   "metadata": {},
   "outputs": [
    {
     "name": "stdout",
     "output_type": "stream",
     "text": [
      "[[14  5  4]\n",
      " [ 5  8  1]\n",
      " [12 14 10]]\n",
      "False\n"
     ]
    }
   ],
   "source": [
    "#60. How to tell if a given 2D array has null columns?\n",
    "X = np.random.randint(0,15,(3,3))\n",
    "print(X)\n",
    "print((~X.any(axis=0)).any())"
   ]
  },
  {
   "cell_type": "code",
   "execution_count": 56,
   "metadata": {},
   "outputs": [
    {
     "name": "stdout",
     "output_type": "stream",
     "text": [
      "4.562741215560503\n"
     ]
    }
   ],
   "source": [
    "#61. Find the nearest value from a given value in an array\n",
    "X = np.random.uniform(0,15,(3,3))\n",
    "v=6\n",
    "close_value=X.flat[np.abs(X-v).argmin()]\n",
    "print(close_value)"
   ]
  },
  {
   "cell_type": "code",
   "execution_count": 59,
   "metadata": {},
   "outputs": [
    {
     "name": "stdout",
     "output_type": "stream",
     "text": [
      "<numpy.nditer object at 0x7ff8a3cd52b0>\n",
      "[[12.47943929 21.50752813 18.21123613]\n",
      " [ 5.67440967 14.70249851 11.40620652]\n",
      " [17.17530659 26.20339544 22.90710344]]\n",
      "[[12.47943929 21.50752813 18.21123613]\n",
      " [ 5.67440967 14.70249851 11.40620652]\n",
      " [17.17530659 26.20339544 22.90710344]]\n"
     ]
    }
   ],
   "source": [
    "#62. Considering two arrays with shape (1,3) and (3,1), how to compute their sum using an iterator?\n",
    "X = np.random.uniform(0,15,(3,1))\n",
    "Y = np.random.uniform(0,15,(1,3))\n",
    "#numpy.nditer() Efficient multi-dimensional iterator object to iterate over arrays.\n",
    "it = np.nditer([X,Y,None])\n",
    "print(it)\n",
    "for x,y,z in it: z[...] = x + y\n",
    "print(it.operands[2])\n",
    "z=[]\n",
    "for x,y,z in it: z.append = x + y\n",
    "print(it.operands[2])"
   ]
  },
  {
   "cell_type": "code",
   "execution_count": 67,
   "metadata": {},
   "outputs": [
    {
     "name": "stdout",
     "output_type": "stream",
     "text": [
      "[0 1 2 3 4 5 6 7 8 9]\n",
      "range_10\n"
     ]
    }
   ],
   "source": [
    "#63. Create an array class that has a name attribute \n",
    "class Array_class(np.ndarray):\n",
    "    def __new__(cls, array, name=\"no name\"):\n",
    "        obj = np.asarray(array).view(cls)\n",
    "        obj.name = name\n",
    "        return obj\n",
    "    def __array_finalize__(self, obj):\n",
    "        if obj is None: return\n",
    "        self.info = getattr(obj, 'name', \"no name\")\n",
    "\n",
    "Z = Array_class(np.arange(10), \"range_10\")\n",
    "print (Z)\n",
    "print(Z.name)"
   ]
  },
  {
   "cell_type": "code",
   "execution_count": 78,
   "metadata": {},
   "outputs": [
    {
     "name": "stdout",
     "output_type": "stream",
     "text": [
      "[2 1 4 7 2 2 0 8 6 5]\n",
      "[1 2 5 7 9]\n",
      "[2 2 5 7 2 3 0 9 6 6]\n"
     ]
    }
   ],
   "source": [
    "#64. Consider a given vector, how to add 1 to each element indexed by a second vector (be careful with repeated indices)?\n",
    "x = np.random.randint(0,10,10)\n",
    "indexing_vector = np.array([1,2,5,7,9])\n",
    "print(x)\n",
    "print(indexing_vector)\n",
    "np.add.at(x, indexing_vector, 1)\n",
    "print(x)\n"
   ]
  },
  {
   "cell_type": "code",
   "execution_count": 80,
   "metadata": {},
   "outputs": [
    {
     "name": "stdout",
     "output_type": "stream",
     "text": [
      "[3 0 8 9 2 5 5 6 1 9]\n",
      "[3 6 0 2 1 3 8 2 0 5]\n",
      "[ 9.  2. 15.  8.  0.  9.  0.  0.  5.]\n"
     ]
    }
   ],
   "source": [
    "#65. How to accumulate elements of a vector (X) to an array (F) based on an index list (I)?\n",
    "X = np.random.randint(0,10,10)\n",
    "print(X)\n",
    "indexing_vector = np.random.randint(0,10,10)\n",
    "print(indexing_vector)\n",
    "F = np.bincount(indexing_vector,X)\n",
    "print(F)"
   ]
  },
  {
   "cell_type": "code",
   "execution_count": 81,
   "metadata": {},
   "outputs": [],
   "source": [
    "#66. Considering a (w,h,3) image of (dtype=ubyte), compute the number of unique colors\n"
   ]
  },
  {
   "cell_type": "code",
   "execution_count": 84,
   "metadata": {},
   "outputs": [
    {
     "name": "stdout",
     "output_type": "stream",
     "text": [
      "[[53 38 40]\n",
      " [45 41 44]\n",
      " [32 52 44]]\n"
     ]
    }
   ],
   "source": [
    "#67. Considering a four dimensions array, how to get sum over the last two axis at once?\n",
    "\n",
    "x=np.random.randint(0,10,(3,3,3,3))\n",
    "sum=x.sum(axis=(-2,-1))\n",
    "print(sum)"
   ]
  },
  {
   "cell_type": "code",
   "execution_count": 85,
   "metadata": {},
   "outputs": [],
   "source": [
    "#68. Considering a one-dimensional vector D, how to compute means of subsets of D using a vector S of same size describing subset indices?\n"
   ]
  },
  {
   "cell_type": "code",
   "execution_count": 86,
   "metadata": {},
   "outputs": [
    {
     "name": "stdout",
     "output_type": "stream",
     "text": [
      "[342.84953757 635.4379599  290.45667439 447.63483534 396.01088607\n",
      " 278.09584429]\n"
     ]
    }
   ],
   "source": [
    "#69. How to get the diagonal of a dot product?\n",
    "X = np.random.uniform(0,15,(6,6))\n",
    "Y = np.random.uniform(0,15,(6,6))\n",
    "diag=np.diag(np.dot(X,Y))\n",
    "print(diag)"
   ]
  },
  {
   "cell_type": "code",
   "execution_count": 115,
   "metadata": {},
   "outputs": [
    {
     "name": "stdout",
     "output_type": "stream",
     "text": [
      "[1 0 0 0 2 0 0 0 3 0 0 0 4 0 0 0 5]\n"
     ]
    }
   ],
   "source": [
    "#70. Consider the vector [1, 2, 3, 4, 5], how to build a new vector with 3 consecutive zeros interleaved between each value?\n",
    "x=[1,2,3,4,5]\n",
    "index=np.array([1,2,3,4])\n",
    "for i in range(3):\n",
    "    x=np.insert(x, [4], 0, axis=0)\n",
    "for i in range(3):\n",
    "    x=np.insert(x, [3], 0, axis=0)  \n",
    "for i in range(3):\n",
    "    x=np.insert(x, [2], 0, axis=0)\n",
    "for i in range(3):\n",
    "    x=np.insert(x, [1], 0, axis=0)    \n",
    "print(x)\n"
   ]
  },
  {
   "cell_type": "code",
   "execution_count": 116,
   "metadata": {},
   "outputs": [
    {
     "name": "stderr",
     "output_type": "stream",
     "text": [
      "<>:3: SyntaxWarning: 'float' object is not callable; perhaps you missed a comma?\n",
      "<>:3: SyntaxWarning: 'float' object is not callable; perhaps you missed a comma?\n",
      "<ipython-input-116-709973d0dcff>:3: SyntaxWarning: 'float' object is not callable; perhaps you missed a comma?\n",
      "  B = 2*np.random.randint(0,10.(5,5))\n"
     ]
    },
    {
     "ename": "TypeError",
     "evalue": "'float' object is not callable",
     "output_type": "error",
     "traceback": [
      "\u001b[0;31m---------------------------------------------------------------------------\u001b[0m",
      "\u001b[0;31mTypeError\u001b[0m                                 Traceback (most recent call last)",
      "\u001b[0;32m<ipython-input-116-709973d0dcff>\u001b[0m in \u001b[0;36m<module>\u001b[0;34m\u001b[0m\n\u001b[1;32m      1\u001b[0m \u001b[0;31m#71. Consider an array of dimension (5,5,3), how to mulitply it by an array with dimensions (5,5)\u001b[0m\u001b[0;34m\u001b[0m\u001b[0;34m\u001b[0m\u001b[0;34m\u001b[0m\u001b[0m\n\u001b[1;32m      2\u001b[0m \u001b[0mx\u001b[0m \u001b[0;34m=\u001b[0m \u001b[0mnp\u001b[0m\u001b[0;34m.\u001b[0m\u001b[0mrandom\u001b[0m\u001b[0;34m.\u001b[0m\u001b[0mrandint\u001b[0m\u001b[0;34m(\u001b[0m\u001b[0;36m0\u001b[0m\u001b[0;34m,\u001b[0m\u001b[0;36m10\u001b[0m\u001b[0;34m,\u001b[0m\u001b[0;34m(\u001b[0m\u001b[0;36m5\u001b[0m\u001b[0;34m,\u001b[0m\u001b[0;36m5\u001b[0m\u001b[0;34m,\u001b[0m\u001b[0;36m3\u001b[0m\u001b[0;34m)\u001b[0m\u001b[0;34m)\u001b[0m\u001b[0;34m\u001b[0m\u001b[0;34m\u001b[0m\u001b[0m\n\u001b[0;32m----> 3\u001b[0;31m \u001b[0mB\u001b[0m \u001b[0;34m=\u001b[0m \u001b[0;36m2\u001b[0m\u001b[0;34m*\u001b[0m\u001b[0mnp\u001b[0m\u001b[0;34m.\u001b[0m\u001b[0mrandom\u001b[0m\u001b[0;34m.\u001b[0m\u001b[0mrandint\u001b[0m\u001b[0;34m(\u001b[0m\u001b[0;36m0\u001b[0m\u001b[0;34m,\u001b[0m\u001b[0;36m10.\u001b[0m\u001b[0;34m(\u001b[0m\u001b[0;36m5\u001b[0m\u001b[0;34m,\u001b[0m\u001b[0;36m5\u001b[0m\u001b[0;34m)\u001b[0m\u001b[0;34m)\u001b[0m\u001b[0;34m\u001b[0m\u001b[0;34m\u001b[0m\u001b[0m\n\u001b[0m\u001b[1;32m      4\u001b[0m \u001b[0mprint\u001b[0m\u001b[0;34m(\u001b[0m\u001b[0mA\u001b[0m \u001b[0;34m*\u001b[0m \u001b[0mB\u001b[0m\u001b[0;34m[\u001b[0m\u001b[0;34m:\u001b[0m\u001b[0;34m,\u001b[0m\u001b[0;34m:\u001b[0m\u001b[0;34m,\u001b[0m\u001b[0;32mNone\u001b[0m\u001b[0;34m]\u001b[0m\u001b[0;34m)\u001b[0m\u001b[0;34m\u001b[0m\u001b[0;34m\u001b[0m\u001b[0m\n",
      "\u001b[0;31mTypeError\u001b[0m: 'float' object is not callable"
     ]
    }
   ],
   "source": [
    "#71. Consider an array of dimension (5,5,3), how to mulitply it by an array with dimensions (5,5)\n",
    "x = np.random.randint(0,10,(5,5,3))\n",
    "B = 2*np.random.randint(0,10.(5,5))\n",
    "print(A * B[:,:,None])"
   ]
  },
  {
   "cell_type": "code",
   "execution_count": null,
   "metadata": {},
   "outputs": [],
   "source": []
  },
  {
   "cell_type": "code",
   "execution_count": null,
   "metadata": {},
   "outputs": [],
   "source": []
  },
  {
   "cell_type": "code",
   "execution_count": null,
   "metadata": {},
   "outputs": [],
   "source": []
  },
  {
   "cell_type": "code",
   "execution_count": 12,
   "metadata": {},
   "outputs": [
    {
     "name": "stdout",
     "output_type": "stream",
     "text": [
      "[2 3 4 5]\n",
      "[[ 1  2  3  4]\n",
      " [ 2  3  4  5]\n",
      " [ 3  4  5  6]\n",
      " [ 4  5  6  7]\n",
      " [ 5  6  7  8]\n",
      " [ 6  7  8  9]\n",
      " [ 7  8  9 10]\n",
      " [ 8  9 10 11]\n",
      " [ 9 10 11 12]\n",
      " [10 11 12 13]\n",
      " [11 12 13 14]\n",
      " [12 13 14 15]\n",
      " [13 14 15 16]\n",
      " [14 15 16 17]]\n"
     ]
    }
   ],
   "source": [
    "#81. Consider an array Z = [1,2,3,4,5,6,7,8,9,10,11,12,13,14], how to generate an array R = [[1,2,3,4], [2,3,4,5], [3,4,5,6], ..., [11,12,13,14]]?\n",
    "import numpy as np\n",
    "z = [1,2,3,4,5,6,7,8,9,10,11,12,13,14]\n",
    "type(z[1])\n",
    "x=np.arange(z[1],z[1+4])\n",
    "print(x)\n",
    "y=[]\n",
    "for i in range(14):\n",
    "           k=np.arange(z[i],z[i]+4)\n",
    "           y.append(k)\n",
    "print(np.array(y))"
   ]
  },
  {
   "cell_type": "code",
   "execution_count": 18,
   "metadata": {},
   "outputs": [
    {
     "name": "stdout",
     "output_type": "stream",
     "text": [
      "2\n"
     ]
    }
   ],
   "source": [
    "#82. Compute a matrix rank\n",
    "x = np.matrix([[1,2,3,4],[5,6,7,8],[9,10,11,12]])\n",
    "print(np.linalg.matrix_rank(x))"
   ]
  },
  {
   "cell_type": "code",
   "execution_count": 21,
   "metadata": {},
   "outputs": [
    {
     "name": "stdout",
     "output_type": "stream",
     "text": [
      "[ 0  3 11 12  5 14 13  9  9 13  4 13 11  1  6  8  1  5 12  1  9  0  3 14\n",
      "  2  5  1  9 11  3  1 14  9  7  3  4 11 14  0  7  7  3 14  9  4  9  4 12\n",
      "  4  7 10  2  3 12  2 13 12  4  9  2  9  4  6  6 11  3  3  4 11  6  0 12\n",
      "  3  0  1  7  8 10  1 14  7  9 10  3  5  2  7  2  0 10 10  9 11  4  6  1\n",
      "  4  2  3 10]\n",
      "3\n"
     ]
    }
   ],
   "source": [
    "#83. How to find the most frequent value in an array?\n",
    "x = np.random.randint(0,15,100)\n",
    "print(x)\n",
    "freq_value=np.bincount(x).argmax()\n",
    "print(freq_value)"
   ]
  },
  {
   "cell_type": "code",
   "execution_count": 34,
   "metadata": {
    "scrolled": true
   },
   "outputs": [
    {
     "name": "stdout",
     "output_type": "stream",
     "text": [
      "[[[[0 2 1]\n",
      "   [3 4 4]\n",
      "   [1 3 4]]\n",
      "\n",
      "  [[2 1 2]\n",
      "   [4 4 0]\n",
      "   [3 4 4]]\n",
      "\n",
      "  [[1 2 2]\n",
      "   [4 0 0]\n",
      "   [4 4 0]]\n",
      "\n",
      "  [[2 2 0]\n",
      "   [0 0 2]\n",
      "   [4 0 4]]\n",
      "\n",
      "  [[2 0 1]\n",
      "   [0 2 1]\n",
      "   [0 4 4]]\n",
      "\n",
      "  [[0 1 2]\n",
      "   [2 1 2]\n",
      "   [4 4 2]]\n",
      "\n",
      "  [[1 2 0]\n",
      "   [1 2 1]\n",
      "   [4 2 0]]\n",
      "\n",
      "  [[2 0 2]\n",
      "   [2 1 1]\n",
      "   [2 0 1]]]\n",
      "\n",
      "\n",
      " [[[3 4 4]\n",
      "   [1 3 4]\n",
      "   [1 4 4]]\n",
      "\n",
      "  [[4 4 0]\n",
      "   [3 4 4]\n",
      "   [4 4 1]]\n",
      "\n",
      "  [[4 0 0]\n",
      "   [4 4 0]\n",
      "   [4 1 3]]\n",
      "\n",
      "  [[0 0 2]\n",
      "   [4 0 4]\n",
      "   [1 3 2]]\n",
      "\n",
      "  [[0 2 1]\n",
      "   [0 4 4]\n",
      "   [3 2 0]]\n",
      "\n",
      "  [[2 1 2]\n",
      "   [4 4 2]\n",
      "   [2 0 4]]\n",
      "\n",
      "  [[1 2 1]\n",
      "   [4 2 0]\n",
      "   [0 4 1]]\n",
      "\n",
      "  [[2 1 1]\n",
      "   [2 0 1]\n",
      "   [4 1 3]]]\n",
      "\n",
      "\n",
      " [[[1 3 4]\n",
      "   [1 4 4]\n",
      "   [3 4 1]]\n",
      "\n",
      "  [[3 4 4]\n",
      "   [4 4 1]\n",
      "   [4 1 4]]\n",
      "\n",
      "  [[4 4 0]\n",
      "   [4 1 3]\n",
      "   [1 4 2]]\n",
      "\n",
      "  [[4 0 4]\n",
      "   [1 3 2]\n",
      "   [4 2 3]]\n",
      "\n",
      "  [[0 4 4]\n",
      "   [3 2 0]\n",
      "   [2 3 0]]\n",
      "\n",
      "  [[4 4 2]\n",
      "   [2 0 4]\n",
      "   [3 0 3]]\n",
      "\n",
      "  [[4 2 0]\n",
      "   [0 4 1]\n",
      "   [0 3 1]]\n",
      "\n",
      "  [[2 0 1]\n",
      "   [4 1 3]\n",
      "   [3 1 3]]]\n",
      "\n",
      "\n",
      " [[[1 4 4]\n",
      "   [3 4 1]\n",
      "   [2 4 2]]\n",
      "\n",
      "  [[4 4 1]\n",
      "   [4 1 4]\n",
      "   [4 2 2]]\n",
      "\n",
      "  [[4 1 3]\n",
      "   [1 4 2]\n",
      "   [2 2 0]]\n",
      "\n",
      "  [[1 3 2]\n",
      "   [4 2 3]\n",
      "   [2 0 2]]\n",
      "\n",
      "  [[3 2 0]\n",
      "   [2 3 0]\n",
      "   [0 2 3]]\n",
      "\n",
      "  [[2 0 4]\n",
      "   [3 0 3]\n",
      "   [2 3 2]]\n",
      "\n",
      "  [[0 4 1]\n",
      "   [0 3 1]\n",
      "   [3 2 3]]\n",
      "\n",
      "  [[4 1 3]\n",
      "   [3 1 3]\n",
      "   [2 3 1]]]\n",
      "\n",
      "\n",
      " [[[3 4 1]\n",
      "   [2 4 2]\n",
      "   [1 2 3]]\n",
      "\n",
      "  [[4 1 4]\n",
      "   [4 2 2]\n",
      "   [2 3 1]]\n",
      "\n",
      "  [[1 4 2]\n",
      "   [2 2 0]\n",
      "   [3 1 4]]\n",
      "\n",
      "  [[4 2 3]\n",
      "   [2 0 2]\n",
      "   [1 4 4]]\n",
      "\n",
      "  [[2 3 0]\n",
      "   [0 2 3]\n",
      "   [4 4 2]]\n",
      "\n",
      "  [[3 0 3]\n",
      "   [2 3 2]\n",
      "   [4 2 0]]\n",
      "\n",
      "  [[0 3 1]\n",
      "   [3 2 3]\n",
      "   [2 0 4]]\n",
      "\n",
      "  [[3 1 3]\n",
      "   [2 3 1]\n",
      "   [0 4 4]]]\n",
      "\n",
      "\n",
      " [[[2 4 2]\n",
      "   [1 2 3]\n",
      "   [4 0 2]]\n",
      "\n",
      "  [[4 2 2]\n",
      "   [2 3 1]\n",
      "   [0 2 4]]\n",
      "\n",
      "  [[2 2 0]\n",
      "   [3 1 4]\n",
      "   [2 4 0]]\n",
      "\n",
      "  [[2 0 2]\n",
      "   [1 4 4]\n",
      "   [4 0 1]]\n",
      "\n",
      "  [[0 2 3]\n",
      "   [4 4 2]\n",
      "   [0 1 1]]\n",
      "\n",
      "  [[2 3 2]\n",
      "   [4 2 0]\n",
      "   [1 1 3]]\n",
      "\n",
      "  [[3 2 3]\n",
      "   [2 0 4]\n",
      "   [1 3 2]]\n",
      "\n",
      "  [[2 3 1]\n",
      "   [0 4 4]\n",
      "   [3 2 1]]]\n",
      "\n",
      "\n",
      " [[[1 2 3]\n",
      "   [4 0 2]\n",
      "   [1 2 4]]\n",
      "\n",
      "  [[2 3 1]\n",
      "   [0 2 4]\n",
      "   [2 4 1]]\n",
      "\n",
      "  [[3 1 4]\n",
      "   [2 4 0]\n",
      "   [4 1 2]]\n",
      "\n",
      "  [[1 4 4]\n",
      "   [4 0 1]\n",
      "   [1 2 1]]\n",
      "\n",
      "  [[4 4 2]\n",
      "   [0 1 1]\n",
      "   [2 1 1]]\n",
      "\n",
      "  [[4 2 0]\n",
      "   [1 1 3]\n",
      "   [1 1 3]]\n",
      "\n",
      "  [[2 0 4]\n",
      "   [1 3 2]\n",
      "   [1 3 2]]\n",
      "\n",
      "  [[0 4 4]\n",
      "   [3 2 1]\n",
      "   [3 2 2]]]\n",
      "\n",
      "\n",
      " [[[4 0 2]\n",
      "   [1 2 4]\n",
      "   [2 1 4]]\n",
      "\n",
      "  [[0 2 4]\n",
      "   [2 4 1]\n",
      "   [1 4 3]]\n",
      "\n",
      "  [[2 4 0]\n",
      "   [4 1 2]\n",
      "   [4 3 3]]\n",
      "\n",
      "  [[4 0 1]\n",
      "   [1 2 1]\n",
      "   [3 3 1]]\n",
      "\n",
      "  [[0 1 1]\n",
      "   [2 1 1]\n",
      "   [3 1 2]]\n",
      "\n",
      "  [[1 1 3]\n",
      "   [1 1 3]\n",
      "   [1 2 2]]\n",
      "\n",
      "  [[1 3 2]\n",
      "   [1 3 2]\n",
      "   [2 2 3]]\n",
      "\n",
      "  [[3 2 1]\n",
      "   [3 2 2]\n",
      "   [2 3 1]]]]\n"
     ]
    }
   ],
   "source": [
    "#84. Extract all the contiguous 3x3 blocks from a random 10x10 matrix\n",
    "x= np.random.uniform(0,10,(10,10))\n",
    "n = 3\n",
    "i = 1 + (Z.shape[0]-3)\n",
    "j = 1 + (Z.shape[1]-3)\n",
    "blocks = np.lib.stride_tricks.as_strided(Z, shape=(i, j, n, n), strides=Z.strides + Z.strides)\n",
    "print(blocks)"
   ]
  },
  {
   "cell_type": "code",
   "execution_count": 32,
   "metadata": {},
   "outputs": [
    {
     "name": "stdout",
     "output_type": "stream",
     "text": [
      "[[ 4  6  4  5  7]\n",
      " [ 6  6  6 13  8]\n",
      " [ 4  6  6 10  8]\n",
      " [ 5 13 10  9  6]\n",
      " [ 7  8  8  6  4]]\n"
     ]
    }
   ],
   "source": [
    "#85. Create a 2D array subclass such that Z[i,j] == Z[j,i] \n",
    "#definig class for symmmetric 2D array\n",
    "class Symetric2D(np.ndarray):\n",
    "    def __setitem__(self, index, value):\n",
    "        i,j = index\n",
    "        super(Symetric2D, self).__setitem__((i,j), value)\n",
    "        super(Symetric2D, self).__setitem__((j,i), value)\n",
    "\n",
    "def symetric(Z):\n",
    "    return np.asarray(Z + Z.T - np.diag(Z.diagonal())).view(Symetric2D)\n",
    "\n",
    "Sym_array = symetric(np.random.randint(0,10,(5,5)))\n",
    "print(Sym_array)\n",
    "\n"
   ]
  },
  {
   "cell_type": "code",
   "execution_count": 35,
   "metadata": {},
   "outputs": [
    {
     "name": "stdout",
     "output_type": "stream",
     "text": [
      "[[[1. 1. 1. ... 1. 1. 1.]\n",
      "  [1. 1. 1. ... 1. 1. 1.]\n",
      "  [1. 1. 1. ... 1. 1. 1.]\n",
      "  ...\n",
      "  [1. 1. 1. ... 1. 1. 1.]\n",
      "  [1. 1. 1. ... 1. 1. 1.]\n",
      "  [1. 1. 1. ... 1. 1. 1.]]\n",
      "\n",
      " [[1. 1. 1. ... 1. 1. 1.]\n",
      "  [1. 1. 1. ... 1. 1. 1.]\n",
      "  [1. 1. 1. ... 1. 1. 1.]\n",
      "  ...\n",
      "  [1. 1. 1. ... 1. 1. 1.]\n",
      "  [1. 1. 1. ... 1. 1. 1.]\n",
      "  [1. 1. 1. ... 1. 1. 1.]]\n",
      "\n",
      " [[1. 1. 1. ... 1. 1. 1.]\n",
      "  [1. 1. 1. ... 1. 1. 1.]\n",
      "  [1. 1. 1. ... 1. 1. 1.]\n",
      "  ...\n",
      "  [1. 1. 1. ... 1. 1. 1.]\n",
      "  [1. 1. 1. ... 1. 1. 1.]\n",
      "  [1. 1. 1. ... 1. 1. 1.]]\n",
      "\n",
      " ...\n",
      "\n",
      " [[1. 1. 1. ... 1. 1. 1.]\n",
      "  [1. 1. 1. ... 1. 1. 1.]\n",
      "  [1. 1. 1. ... 1. 1. 1.]\n",
      "  ...\n",
      "  [1. 1. 1. ... 1. 1. 1.]\n",
      "  [1. 1. 1. ... 1. 1. 1.]\n",
      "  [1. 1. 1. ... 1. 1. 1.]]\n",
      "\n",
      " [[1. 1. 1. ... 1. 1. 1.]\n",
      "  [1. 1. 1. ... 1. 1. 1.]\n",
      "  [1. 1. 1. ... 1. 1. 1.]\n",
      "  ...\n",
      "  [1. 1. 1. ... 1. 1. 1.]\n",
      "  [1. 1. 1. ... 1. 1. 1.]\n",
      "  [1. 1. 1. ... 1. 1. 1.]]\n",
      "\n",
      " [[1. 1. 1. ... 1. 1. 1.]\n",
      "  [1. 1. 1. ... 1. 1. 1.]\n",
      "  [1. 1. 1. ... 1. 1. 1.]\n",
      "  ...\n",
      "  [1. 1. 1. ... 1. 1. 1.]\n",
      "  [1. 1. 1. ... 1. 1. 1.]\n",
      "  [1. 1. 1. ... 1. 1. 1.]]]\n",
      "[[[1.]\n",
      "  [1.]\n",
      "  [1.]\n",
      "  [1.]\n",
      "  [1.]\n",
      "  [1.]\n",
      "  [1.]\n",
      "  [1.]\n",
      "  [1.]\n",
      "  [1.]\n",
      "  [1.]\n",
      "  [1.]\n",
      "  [1.]\n",
      "  [1.]\n",
      "  [1.]\n",
      "  [1.]\n",
      "  [1.]\n",
      "  [1.]\n",
      "  [1.]\n",
      "  [1.]]\n",
      "\n",
      " [[1.]\n",
      "  [1.]\n",
      "  [1.]\n",
      "  [1.]\n",
      "  [1.]\n",
      "  [1.]\n",
      "  [1.]\n",
      "  [1.]\n",
      "  [1.]\n",
      "  [1.]\n",
      "  [1.]\n",
      "  [1.]\n",
      "  [1.]\n",
      "  [1.]\n",
      "  [1.]\n",
      "  [1.]\n",
      "  [1.]\n",
      "  [1.]\n",
      "  [1.]\n",
      "  [1.]]\n",
      "\n",
      " [[1.]\n",
      "  [1.]\n",
      "  [1.]\n",
      "  [1.]\n",
      "  [1.]\n",
      "  [1.]\n",
      "  [1.]\n",
      "  [1.]\n",
      "  [1.]\n",
      "  [1.]\n",
      "  [1.]\n",
      "  [1.]\n",
      "  [1.]\n",
      "  [1.]\n",
      "  [1.]\n",
      "  [1.]\n",
      "  [1.]\n",
      "  [1.]\n",
      "  [1.]\n",
      "  [1.]]\n",
      "\n",
      " [[1.]\n",
      "  [1.]\n",
      "  [1.]\n",
      "  [1.]\n",
      "  [1.]\n",
      "  [1.]\n",
      "  [1.]\n",
      "  [1.]\n",
      "  [1.]\n",
      "  [1.]\n",
      "  [1.]\n",
      "  [1.]\n",
      "  [1.]\n",
      "  [1.]\n",
      "  [1.]\n",
      "  [1.]\n",
      "  [1.]\n",
      "  [1.]\n",
      "  [1.]\n",
      "  [1.]]\n",
      "\n",
      " [[1.]\n",
      "  [1.]\n",
      "  [1.]\n",
      "  [1.]\n",
      "  [1.]\n",
      "  [1.]\n",
      "  [1.]\n",
      "  [1.]\n",
      "  [1.]\n",
      "  [1.]\n",
      "  [1.]\n",
      "  [1.]\n",
      "  [1.]\n",
      "  [1.]\n",
      "  [1.]\n",
      "  [1.]\n",
      "  [1.]\n",
      "  [1.]\n",
      "  [1.]\n",
      "  [1.]]\n",
      "\n",
      " [[1.]\n",
      "  [1.]\n",
      "  [1.]\n",
      "  [1.]\n",
      "  [1.]\n",
      "  [1.]\n",
      "  [1.]\n",
      "  [1.]\n",
      "  [1.]\n",
      "  [1.]\n",
      "  [1.]\n",
      "  [1.]\n",
      "  [1.]\n",
      "  [1.]\n",
      "  [1.]\n",
      "  [1.]\n",
      "  [1.]\n",
      "  [1.]\n",
      "  [1.]\n",
      "  [1.]]\n",
      "\n",
      " [[1.]\n",
      "  [1.]\n",
      "  [1.]\n",
      "  [1.]\n",
      "  [1.]\n",
      "  [1.]\n",
      "  [1.]\n",
      "  [1.]\n",
      "  [1.]\n",
      "  [1.]\n",
      "  [1.]\n",
      "  [1.]\n",
      "  [1.]\n",
      "  [1.]\n",
      "  [1.]\n",
      "  [1.]\n",
      "  [1.]\n",
      "  [1.]\n",
      "  [1.]\n",
      "  [1.]]\n",
      "\n",
      " [[1.]\n",
      "  [1.]\n",
      "  [1.]\n",
      "  [1.]\n",
      "  [1.]\n",
      "  [1.]\n",
      "  [1.]\n",
      "  [1.]\n",
      "  [1.]\n",
      "  [1.]\n",
      "  [1.]\n",
      "  [1.]\n",
      "  [1.]\n",
      "  [1.]\n",
      "  [1.]\n",
      "  [1.]\n",
      "  [1.]\n",
      "  [1.]\n",
      "  [1.]\n",
      "  [1.]]\n",
      "\n",
      " [[1.]\n",
      "  [1.]\n",
      "  [1.]\n",
      "  [1.]\n",
      "  [1.]\n",
      "  [1.]\n",
      "  [1.]\n",
      "  [1.]\n",
      "  [1.]\n",
      "  [1.]\n",
      "  [1.]\n",
      "  [1.]\n",
      "  [1.]\n",
      "  [1.]\n",
      "  [1.]\n",
      "  [1.]\n",
      "  [1.]\n",
      "  [1.]\n",
      "  [1.]\n",
      "  [1.]]\n",
      "\n",
      " [[1.]\n",
      "  [1.]\n",
      "  [1.]\n",
      "  [1.]\n",
      "  [1.]\n",
      "  [1.]\n",
      "  [1.]\n",
      "  [1.]\n",
      "  [1.]\n",
      "  [1.]\n",
      "  [1.]\n",
      "  [1.]\n",
      "  [1.]\n",
      "  [1.]\n",
      "  [1.]\n",
      "  [1.]\n",
      "  [1.]\n",
      "  [1.]\n",
      "  [1.]\n",
      "  [1.]]]\n",
      "[[200.]\n",
      " [200.]\n",
      " [200.]\n",
      " [200.]\n",
      " [200.]\n",
      " [200.]\n",
      " [200.]\n",
      " [200.]\n",
      " [200.]\n",
      " [200.]\n",
      " [200.]\n",
      " [200.]\n",
      " [200.]\n",
      " [200.]\n",
      " [200.]\n",
      " [200.]\n",
      " [200.]\n",
      " [200.]\n",
      " [200.]\n",
      " [200.]]\n"
     ]
    }
   ],
   "source": [
    "#86. Consider a set of p matrices wich shape (n,n) and a set of p vectors with shape (n,1). How to compute the sum of of the p matrix products at once? (result has shape (n,1))\n",
    "p, n = 10, 20\n",
    "#creating set of p matrices wich shape (n,n)\n",
    "A = np.ones((p,n,n))\n",
    "#creating set of p vectors with shape (n,1)\n",
    "print(A)\n",
    "V = np.ones((p,n,1))\n",
    "print(V)\n",
    "S = np.tensordot(A, V, axes=[[0, 2], [0, 1]])\n",
    "print(S)"
   ]
  },
  {
   "cell_type": "code",
   "execution_count": 41,
   "metadata": {},
   "outputs": [
    {
     "name": "stdout",
     "output_type": "stream",
     "text": [
      "[[16. 16. 16. 16.]\n",
      " [16. 16. 16. 16.]\n",
      " [16. 16. 16. 16.]\n",
      " [16. 16. 16. 16.]]\n"
     ]
    }
   ],
   "source": [
    "#87. Consider a 16x16 array, how to get the block-sum (block size is 4x4)?\n",
    "x = np.ones((16,16))\n",
    "k = 4\n",
    "Sum = np.add.reduceat(np.add.reduceat(x, np.arange(0, x.shape[0], k), axis=0),\n",
    "                                       np.arange(0, x.shape[1], k), axis=1)\n",
    "print(Sum)"
   ]
  },
  {
   "cell_type": "code",
   "execution_count": 39,
   "metadata": {},
   "outputs": [
    {
     "name": "stdout",
     "output_type": "stream",
     "text": [
      "[497 497 497 498 498 498 499 499 499 499]\n"
     ]
    }
   ],
   "source": [
    "#89. How to get the n largest values of an array\n",
    "x = np.random.randint(0,500,1000)\n",
    "n = 10\n",
    "print (x[np.argsort(x)[-n:]])"
   ]
  },
  {
   "cell_type": "code",
   "execution_count": null,
   "metadata": {},
   "outputs": [],
   "source": []
  }
 ],
 "metadata": {
  "kernelspec": {
   "display_name": "Python 3",
   "language": "python",
   "name": "python3"
  },
  "language_info": {
   "codemirror_mode": {
    "name": "ipython",
    "version": 3
   },
   "file_extension": ".py",
   "mimetype": "text/x-python",
   "name": "python",
   "nbconvert_exporter": "python",
   "pygments_lexer": "ipython3",
   "version": "3.8.5"
  }
 },
 "nbformat": 4,
 "nbformat_minor": 4
}
